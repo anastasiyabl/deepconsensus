{
  "cells": [
    {
      "cell_type": "markdown",
      "metadata": {
        "id": "QPm4rl4u-kHD"
      },
      "source": [
        "# Inspecting DeepConsensus examples and running model"
      ]
    },
    {
      "cell_type": "markdown",
      "metadata": {
        "id": "UyUxIkM832Mf"
      },
      "source": [
        "## Imports\n",
        "\n"
      ]
    },
    {
      "cell_type": "markdown",
      "metadata": {
        "id": "hAGpwYlc-wSb"
      },
      "source": [
        "Run these in order. These libraries are finicky about which order they're installed and loaded in."
      ]
    },
    {
      "cell_type": "code",
      "execution_count": null,
      "metadata": {
        "colab": {
          "base_uri": "https://localhost:8080/"
        },
        "executionInfo": {
          "elapsed": 31987,
          "status": "ok",
          "timestamp": 1671002697855,
          "user": {
            "displayName": "Anastasiya Belyaeva",
            "userId": "13030672936202985448"
          },
          "user_tz": 480
        },
        "id": "rxPOVn8fZz08",
        "outputId": "e2fb00ec-0c98-4d9f-9f27-c79eb5135726"
      },
      "outputs": [
        {
          "name": "stdout",
          "output_type": "stream",
          "text": [
            "Looking in indexes: https://pypi.org/simple, https://us-python.pkg.dev/colab-wheels/public/simple/\n",
            "Requirement already satisfied: pip in /usr/local/lib/python3.8/dist-packages (22.3.1)\n",
            "Requirement already satisfied: setuptools in /usr/local/lib/python3.8/dist-packages (65.6.3)\n",
            "Requirement already satisfied: wheel in /usr/local/lib/python3.8/dist-packages (0.38.4)\n",
            "\u001b[33mWARNING: Running pip as the 'root' user can result in broken permissions and conflicting behaviour with the system package manager. It is recommended to use a virtual environment instead: https://pip.pypa.io/warnings/venv\u001b[0m\u001b[33m\n",
            "\u001b[0mLooking in indexes: https://test.pypi.org/simple/, https://us-python.pkg.dev/colab-wheels/public/simple/, https://pypi.org/simple\n",
            "Collecting deepconsensus[cpu]==1.1.0\n",
            "  Using cached https://test-files.pythonhosted.org/packages/6e/01/790fbf619116eac308509c1c029bf303ff6684afea77742b43dd150da6ec/deepconsensus-1.1.0-py3-none-any.whl (157 kB)\n",
            "Collecting tf-models-official==2.9.2\n",
            "  Using cached tf_models_official-2.9.2-py2.py3-none-any.whl (2.1 MB)\n",
            "Requirement already satisfied: absl-py==1.0.0 in /usr/local/lib/python3.8/dist-packages (from deepconsensus[cpu]==1.1.0) (1.0.0)\n",
            "Requirement already satisfied: pysam==0.19.0 in /usr/local/lib/python3.8/dist-packages (from deepconsensus[cpu]==1.1.0) (0.19.0)\n",
            "Collecting ml-collections==0.1.1\n",
            "  Using cached ml_collections-0.1.1-py3-none-any.whl\n",
            "Requirement already satisfied: keras==2.9.0 in /usr/local/lib/python3.8/dist-packages (from deepconsensus[cpu]==1.1.0) (2.9.0)\n",
            "Requirement already satisfied: pyyaml==5.4.1 in /usr/local/lib/python3.8/dist-packages (from deepconsensus[cpu]==1.1.0) (5.4.1)\n",
            "Collecting pandas==1.5.1\n",
            "  Using cached pandas-1.5.1-cp38-cp38-manylinux_2_17_x86_64.manylinux2014_x86_64.whl (12.2 MB)\n",
            "Collecting intel-tensorflow==2.9.1\n",
            "  Using cached intel_tensorflow-2.9.1-cp38-cp38-manylinux_2_17_x86_64.manylinux2014_x86_64.whl (232.6 MB)\n",
            "Requirement already satisfied: six in /usr/local/lib/python3.8/dist-packages (from absl-py==1.0.0-\u003edeepconsensus[cpu]==1.1.0) (1.15.0)\n",
            "Requirement already satisfied: opt-einsum\u003e=2.3.2 in /usr/local/lib/python3.8/dist-packages (from intel-tensorflow==2.9.1-\u003edeepconsensus[cpu]==1.1.0) (3.3.0)\n",
            "Requirement already satisfied: numpy\u003e=1.20 in /usr/local/lib/python3.8/dist-packages (from intel-tensorflow==2.9.1-\u003edeepconsensus[cpu]==1.1.0) (1.21.6)\n",
            "Requirement already satisfied: keras-preprocessing\u003e=1.1.1 in /usr/local/lib/python3.8/dist-packages (from intel-tensorflow==2.9.1-\u003edeepconsensus[cpu]==1.1.0) (1.1.2)\n",
            "Requirement already satisfied: tensorflow-estimator\u003c2.10.0,\u003e=2.9.0rc0 in /usr/local/lib/python3.8/dist-packages (from intel-tensorflow==2.9.1-\u003edeepconsensus[cpu]==1.1.0) (2.9.0)\n",
            "Requirement already satisfied: tensorflow-io-gcs-filesystem\u003e=0.23.1 in /usr/local/lib/python3.8/dist-packages (from intel-tensorflow==2.9.1-\u003edeepconsensus[cpu]==1.1.0) (0.28.0)\n",
            "Requirement already satisfied: gast\u003c=0.4.0,\u003e=0.2.1 in /usr/local/lib/python3.8/dist-packages (from intel-tensorflow==2.9.1-\u003edeepconsensus[cpu]==1.1.0) (0.4.0)\n",
            "Requirement already satisfied: tensorboard\u003c2.10,\u003e=2.9 in /usr/local/lib/python3.8/dist-packages (from intel-tensorflow==2.9.1-\u003edeepconsensus[cpu]==1.1.0) (2.9.1)\n",
            "Requirement already satisfied: astunparse\u003e=1.6.0 in /usr/local/lib/python3.8/dist-packages (from intel-tensorflow==2.9.1-\u003edeepconsensus[cpu]==1.1.0) (1.6.3)\n",
            "Requirement already satisfied: termcolor\u003e=1.1.0 in /usr/local/lib/python3.8/dist-packages (from intel-tensorflow==2.9.1-\u003edeepconsensus[cpu]==1.1.0) (2.1.1)\n",
            "Requirement already satisfied: protobuf\u003c3.20,\u003e=3.9.2 in /usr/local/lib/python3.8/dist-packages (from intel-tensorflow==2.9.1-\u003edeepconsensus[cpu]==1.1.0) (3.19.6)\n",
            "Requirement already satisfied: typing-extensions\u003e=3.6.6 in /usr/local/lib/python3.8/dist-packages (from intel-tensorflow==2.9.1-\u003edeepconsensus[cpu]==1.1.0) (4.4.0)\n",
            "Requirement already satisfied: libclang\u003e=13.0.0 in /usr/local/lib/python3.8/dist-packages (from intel-tensorflow==2.9.1-\u003edeepconsensus[cpu]==1.1.0) (14.0.6)\n",
            "Requirement already satisfied: wrapt\u003e=1.11.0 in /usr/local/lib/python3.8/dist-packages (from intel-tensorflow==2.9.1-\u003edeepconsensus[cpu]==1.1.0) (1.14.1)\n",
            "Requirement already satisfied: flatbuffers\u003c2,\u003e=1.12 in /usr/local/lib/python3.8/dist-packages (from intel-tensorflow==2.9.1-\u003edeepconsensus[cpu]==1.1.0) (1.12)\n",
            "Requirement already satisfied: packaging in /usr/local/lib/python3.8/dist-packages (from intel-tensorflow==2.9.1-\u003edeepconsensus[cpu]==1.1.0) (21.3)\n",
            "Requirement already satisfied: grpcio\u003c2.0,\u003e=1.24.3 in /usr/local/lib/python3.8/dist-packages (from intel-tensorflow==2.9.1-\u003edeepconsensus[cpu]==1.1.0) (1.51.1)\n",
            "Requirement already satisfied: setuptools in /usr/local/lib/python3.8/dist-packages (from intel-tensorflow==2.9.1-\u003edeepconsensus[cpu]==1.1.0) (65.6.3)\n",
            "Requirement already satisfied: h5py\u003e=2.9.0 in /usr/local/lib/python3.8/dist-packages (from intel-tensorflow==2.9.1-\u003edeepconsensus[cpu]==1.1.0) (3.1.0)\n",
            "Requirement already satisfied: google-pasta\u003e=0.1.1 in /usr/local/lib/python3.8/dist-packages (from intel-tensorflow==2.9.1-\u003edeepconsensus[cpu]==1.1.0) (0.2.0)\n",
            "Requirement already satisfied: contextlib2 in /usr/local/lib/python3.8/dist-packages (from ml-collections==0.1.1-\u003edeepconsensus[cpu]==1.1.0) (0.5.5)\n",
            "Requirement already satisfied: pytz\u003e=2020.1 in /usr/local/lib/python3.8/dist-packages (from pandas==1.5.1-\u003edeepconsensus[cpu]==1.1.0) (2022.6)\n",
            "Requirement already satisfied: python-dateutil\u003e=2.8.1 in /usr/local/lib/python3.8/dist-packages (from pandas==1.5.1-\u003edeepconsensus[cpu]==1.1.0) (2.8.2)\n",
            "Requirement already satisfied: Pillow in /usr/local/lib/python3.8/dist-packages (from tf-models-official==2.9.2-\u003edeepconsensus[cpu]==1.1.0) (7.1.2)\n",
            "Requirement already satisfied: gin-config in /usr/local/lib/python3.8/dist-packages (from tf-models-official==2.9.2-\u003edeepconsensus[cpu]==1.1.0) (0.5.0)\n",
            "Requirement already satisfied: psutil\u003e=5.4.3 in /usr/local/lib/python3.8/dist-packages (from tf-models-official==2.9.2-\u003edeepconsensus[cpu]==1.1.0) (5.4.8)\n",
            "Collecting sacrebleu\n",
            "  Using cached sacrebleu-2.3.1-py3-none-any.whl (118 kB)\n",
            "Requirement already satisfied: sentencepiece in /usr/local/lib/python3.8/dist-packages (from tf-models-official==2.9.2-\u003edeepconsensus[cpu]==1.1.0) (0.1.97)\n",
            "Requirement already satisfied: oauth2client in /usr/local/lib/python3.8/dist-packages (from tf-models-official==2.9.2-\u003edeepconsensus[cpu]==1.1.0) (4.1.3)\n",
            "Requirement already satisfied: pycocotools in /usr/local/lib/python3.8/dist-packages (from tf-models-official==2.9.2-\u003edeepconsensus[cpu]==1.1.0) (2.0.6)\n",
            "Requirement already satisfied: Cython in /usr/local/lib/python3.8/dist-packages (from tf-models-official==2.9.2-\u003edeepconsensus[cpu]==1.1.0) (0.29.32)\n",
            "Requirement already satisfied: py-cpuinfo\u003e=3.3.0 in /usr/local/lib/python3.8/dist-packages (from tf-models-official==2.9.2-\u003edeepconsensus[cpu]==1.1.0) (9.0.0)\n",
            "Requirement already satisfied: scipy\u003e=0.19.1 in /usr/local/lib/python3.8/dist-packages (from tf-models-official==2.9.2-\u003edeepconsensus[cpu]==1.1.0) (1.7.3)\n",
            "Collecting tensorflow-addons\n",
            "  Using cached tensorflow_addons-0.19.0-cp38-cp38-manylinux_2_17_x86_64.manylinux2014_x86_64.whl (1.1 MB)\n",
            "Requirement already satisfied: kaggle\u003e=1.3.9 in /usr/local/lib/python3.8/dist-packages (from tf-models-official==2.9.2-\u003edeepconsensus[cpu]==1.1.0) (1.5.12)\n",
            "Requirement already satisfied: tensorflow-model-optimization\u003e=0.4.1 in /usr/local/lib/python3.8/dist-packages (from tf-models-official==2.9.2-\u003edeepconsensus[cpu]==1.1.0) (0.7.3)\n",
            "Requirement already satisfied: tensorflow-datasets in /usr/local/lib/python3.8/dist-packages (from tf-models-official==2.9.2-\u003edeepconsensus[cpu]==1.1.0) (4.6.0)\n",
            "Requirement already satisfied: matplotlib in /usr/local/lib/python3.8/dist-packages (from tf-models-official==2.9.2-\u003edeepconsensus[cpu]==1.1.0) (3.2.2)\n",
            "Requirement already satisfied: tensorflow~=2.9.0 in /usr/local/lib/python3.8/dist-packages (from tf-models-official==2.9.2-\u003edeepconsensus[cpu]==1.1.0) (2.9.2)\n",
            "Collecting tensorflow-text~=2.9.0\n",
            "  Using cached tensorflow_text-2.9.0-cp38-cp38-manylinux_2_17_x86_64.manylinux2014_x86_64.whl (4.6 MB)\n",
            "Collecting seqeval\n",
            "  Using cached seqeval-1.2.2-py3-none-any.whl\n",
            "Requirement already satisfied: google-api-python-client\u003e=1.6.7 in /usr/local/lib/python3.8/dist-packages (from tf-models-official==2.9.2-\u003edeepconsensus[cpu]==1.1.0) (1.12.11)\n",
            "Requirement already satisfied: opencv-python-headless in /usr/local/lib/python3.8/dist-packages (from tf-models-official==2.9.2-\u003edeepconsensus[cpu]==1.1.0) (4.6.0.66)\n",
            "Requirement already satisfied: tf-slim\u003e=1.1.0 in /usr/local/lib/python3.8/dist-packages (from tf-models-official==2.9.2-\u003edeepconsensus[cpu]==1.1.0) (1.1.0)\n",
            "Requirement already satisfied: tensorflow-hub\u003e=0.6.0 in /usr/local/lib/python3.8/dist-packages (from tf-models-official==2.9.2-\u003edeepconsensus[cpu]==1.1.0) (0.12.0)\n",
            "Requirement already satisfied: wheel\u003c1.0,\u003e=0.23.0 in /usr/local/lib/python3.8/dist-packages (from astunparse\u003e=1.6.0-\u003eintel-tensorflow==2.9.1-\u003edeepconsensus[cpu]==1.1.0) (0.38.4)\n",
            "Requirement already satisfied: uritemplate\u003c4dev,\u003e=3.0.0 in /usr/local/lib/python3.8/dist-packages (from google-api-python-client\u003e=1.6.7-\u003etf-models-official==2.9.2-\u003edeepconsensus[cpu]==1.1.0) (3.0.1)\n",
            "Requirement already satisfied: google-auth-httplib2\u003e=0.0.3 in /usr/local/lib/python3.8/dist-packages (from google-api-python-client\u003e=1.6.7-\u003etf-models-official==2.9.2-\u003edeepconsensus[cpu]==1.1.0) (0.0.4)\n",
            "Requirement already satisfied: google-api-core\u003c3dev,\u003e=1.21.0 in /usr/local/lib/python3.8/dist-packages (from google-api-python-client\u003e=1.6.7-\u003etf-models-official==2.9.2-\u003edeepconsensus[cpu]==1.1.0) (2.8.2)\n",
            "Requirement already satisfied: google-auth\u003c3dev,\u003e=1.16.0 in /usr/local/lib/python3.8/dist-packages (from google-api-python-client\u003e=1.6.7-\u003etf-models-official==2.9.2-\u003edeepconsensus[cpu]==1.1.0) (2.15.0)\n",
            "Requirement already satisfied: httplib2\u003c1dev,\u003e=0.15.0 in /usr/local/lib/python3.8/dist-packages (from google-api-python-client\u003e=1.6.7-\u003etf-models-official==2.9.2-\u003edeepconsensus[cpu]==1.1.0) (0.17.4)\n",
            "Requirement already satisfied: urllib3 in /usr/local/lib/python3.8/dist-packages (from kaggle\u003e=1.3.9-\u003etf-models-official==2.9.2-\u003edeepconsensus[cpu]==1.1.0) (1.24.3)\n",
            "Requirement already satisfied: requests in /usr/local/lib/python3.8/dist-packages (from kaggle\u003e=1.3.9-\u003etf-models-official==2.9.2-\u003edeepconsensus[cpu]==1.1.0) (2.23.0)\n",
            "Requirement already satisfied: tqdm in /usr/local/lib/python3.8/dist-packages (from kaggle\u003e=1.3.9-\u003etf-models-official==2.9.2-\u003edeepconsensus[cpu]==1.1.0) (4.64.1)\n",
            "Requirement already satisfied: certifi in /usr/local/lib/python3.8/dist-packages (from kaggle\u003e=1.3.9-\u003etf-models-official==2.9.2-\u003edeepconsensus[cpu]==1.1.0) (2022.9.24)\n",
            "Requirement already satisfied: python-slugify in /usr/local/lib/python3.8/dist-packages (from kaggle\u003e=1.3.9-\u003etf-models-official==2.9.2-\u003edeepconsensus[cpu]==1.1.0) (7.0.0)\n",
            "Requirement already satisfied: markdown\u003e=2.6.8 in /usr/local/lib/python3.8/dist-packages (from tensorboard\u003c2.10,\u003e=2.9-\u003eintel-tensorflow==2.9.1-\u003edeepconsensus[cpu]==1.1.0) (3.4.1)\n",
            "Requirement already satisfied: tensorboard-plugin-wit\u003e=1.6.0 in /usr/local/lib/python3.8/dist-packages (from tensorboard\u003c2.10,\u003e=2.9-\u003eintel-tensorflow==2.9.1-\u003edeepconsensus[cpu]==1.1.0) (1.8.1)\n",
            "Requirement already satisfied: werkzeug\u003e=1.0.1 in /usr/local/lib/python3.8/dist-packages (from tensorboard\u003c2.10,\u003e=2.9-\u003eintel-tensorflow==2.9.1-\u003edeepconsensus[cpu]==1.1.0) (1.0.1)\n",
            "Requirement already satisfied: tensorboard-data-server\u003c0.7.0,\u003e=0.6.0 in /usr/local/lib/python3.8/dist-packages (from tensorboard\u003c2.10,\u003e=2.9-\u003eintel-tensorflow==2.9.1-\u003edeepconsensus[cpu]==1.1.0) (0.6.1)\n",
            "Requirement already satisfied: google-auth-oauthlib\u003c0.5,\u003e=0.4.1 in /usr/local/lib/python3.8/dist-packages (from tensorboard\u003c2.10,\u003e=2.9-\u003eintel-tensorflow==2.9.1-\u003edeepconsensus[cpu]==1.1.0) (0.4.6)\n",
            "Requirement already satisfied: dm-tree~=0.1.1 in /usr/local/lib/python3.8/dist-packages (from tensorflow-model-optimization\u003e=0.4.1-\u003etf-models-official==2.9.2-\u003edeepconsensus[cpu]==1.1.0) (0.1.7)\n",
            "Requirement already satisfied: cycler\u003e=0.10 in /usr/local/lib/python3.8/dist-packages (from matplotlib-\u003etf-models-official==2.9.2-\u003edeepconsensus[cpu]==1.1.0) (0.11.0)\n",
            "Requirement already satisfied: pyparsing!=2.0.4,!=2.1.2,!=2.1.6,\u003e=2.0.1 in /usr/local/lib/python3.8/dist-packages (from matplotlib-\u003etf-models-official==2.9.2-\u003edeepconsensus[cpu]==1.1.0) (3.0.9)\n",
            "Requirement already satisfied: kiwisolver\u003e=1.0.1 in /usr/local/lib/python3.8/dist-packages (from matplotlib-\u003etf-models-official==2.9.2-\u003edeepconsensus[cpu]==1.1.0) (1.4.4)\n",
            "Requirement already satisfied: rsa\u003e=3.1.4 in /usr/local/lib/python3.8/dist-packages (from oauth2client-\u003etf-models-official==2.9.2-\u003edeepconsensus[cpu]==1.1.0) (4.9)\n",
            "Requirement already satisfied: pyasn1\u003e=0.1.7 in /usr/local/lib/python3.8/dist-packages (from oauth2client-\u003etf-models-official==2.9.2-\u003edeepconsensus[cpu]==1.1.0) (0.4.8)\n",
            "Requirement already satisfied: pyasn1-modules\u003e=0.0.5 in /usr/local/lib/python3.8/dist-packages (from oauth2client-\u003etf-models-official==2.9.2-\u003edeepconsensus[cpu]==1.1.0) (0.2.8)\n",
            "Requirement already satisfied: colorama in /usr/local/lib/python3.8/dist-packages (from sacrebleu-\u003etf-models-official==2.9.2-\u003edeepconsensus[cpu]==1.1.0) (0.4.6)\n",
            "Requirement already satisfied: lxml in /usr/local/lib/python3.8/dist-packages (from sacrebleu-\u003etf-models-official==2.9.2-\u003edeepconsensus[cpu]==1.1.0) (4.9.1)\n",
            "Requirement already satisfied: regex in /usr/local/lib/python3.8/dist-packages (from sacrebleu-\u003etf-models-official==2.9.2-\u003edeepconsensus[cpu]==1.1.0) (2022.6.2)\n",
            "Requirement already satisfied: tabulate\u003e=0.8.9 in /usr/local/lib/python3.8/dist-packages (from sacrebleu-\u003etf-models-official==2.9.2-\u003edeepconsensus[cpu]==1.1.0) (0.8.10)\n",
            "Requirement already satisfied: portalocker in /usr/local/lib/python3.8/dist-packages (from sacrebleu-\u003etf-models-official==2.9.2-\u003edeepconsensus[cpu]==1.1.0) (2.6.0)\n",
            "Requirement already satisfied: scikit-learn\u003e=0.21.3 in /usr/local/lib/python3.8/dist-packages (from seqeval-\u003etf-models-official==2.9.2-\u003edeepconsensus[cpu]==1.1.0) (1.0.2)\n",
            "Requirement already satisfied: typeguard\u003e=2.7 in /usr/local/lib/python3.8/dist-packages (from tensorflow-addons-\u003etf-models-official==2.9.2-\u003edeepconsensus[cpu]==1.1.0) (2.7.1)\n",
            "Requirement already satisfied: dill in /usr/local/lib/python3.8/dist-packages (from tensorflow-datasets-\u003etf-models-official==2.9.2-\u003edeepconsensus[cpu]==1.1.0) (0.3.6)\n",
            "Requirement already satisfied: importlib-resources in /usr/local/lib/python3.8/dist-packages (from tensorflow-datasets-\u003etf-models-official==2.9.2-\u003edeepconsensus[cpu]==1.1.0) (5.10.0)\n",
            "Requirement already satisfied: promise in /usr/local/lib/python3.8/dist-packages (from tensorflow-datasets-\u003etf-models-official==2.9.2-\u003edeepconsensus[cpu]==1.1.0) (2.3)\n",
            "Requirement already satisfied: tensorflow-metadata in /usr/local/lib/python3.8/dist-packages (from tensorflow-datasets-\u003etf-models-official==2.9.2-\u003edeepconsensus[cpu]==1.1.0) (1.11.0)\n",
            "Requirement already satisfied: toml in /usr/local/lib/python3.8/dist-packages (from tensorflow-datasets-\u003etf-models-official==2.9.2-\u003edeepconsensus[cpu]==1.1.0) (0.10.2)\n",
            "Requirement already satisfied: etils[epath] in /usr/local/lib/python3.8/dist-packages (from tensorflow-datasets-\u003etf-models-official==2.9.2-\u003edeepconsensus[cpu]==1.1.0) (0.9.0)\n",
            "Requirement already satisfied: googleapis-common-protos\u003c2.0dev,\u003e=1.56.2 in /usr/local/lib/python3.8/dist-packages (from google-api-core\u003c3dev,\u003e=1.21.0-\u003egoogle-api-python-client\u003e=1.6.7-\u003etf-models-official==2.9.2-\u003edeepconsensus[cpu]==1.1.0) (1.57.0)\n",
            "Requirement already satisfied: cachetools\u003c6.0,\u003e=2.0.0 in /usr/local/lib/python3.8/dist-packages (from google-auth\u003c3dev,\u003e=1.16.0-\u003egoogle-api-python-client\u003e=1.6.7-\u003etf-models-official==2.9.2-\u003edeepconsensus[cpu]==1.1.0) (5.2.0)\n",
            "Requirement already satisfied: requests-oauthlib\u003e=0.7.0 in /usr/local/lib/python3.8/dist-packages (from google-auth-oauthlib\u003c0.5,\u003e=0.4.1-\u003etensorboard\u003c2.10,\u003e=2.9-\u003eintel-tensorflow==2.9.1-\u003edeepconsensus[cpu]==1.1.0) (1.3.1)\n",
            "Requirement already satisfied: importlib-metadata\u003e=4.4 in /usr/local/lib/python3.8/dist-packages (from markdown\u003e=2.6.8-\u003etensorboard\u003c2.10,\u003e=2.9-\u003eintel-tensorflow==2.9.1-\u003edeepconsensus[cpu]==1.1.0) (4.13.0)\n",
            "Requirement already satisfied: idna\u003c3,\u003e=2.5 in /usr/local/lib/python3.8/dist-packages (from requests-\u003ekaggle\u003e=1.3.9-\u003etf-models-official==2.9.2-\u003edeepconsensus[cpu]==1.1.0) (2.10)\n",
            "Requirement already satisfied: chardet\u003c4,\u003e=3.0.2 in /usr/local/lib/python3.8/dist-packages (from requests-\u003ekaggle\u003e=1.3.9-\u003etf-models-official==2.9.2-\u003edeepconsensus[cpu]==1.1.0) (3.0.4)\n",
            "Requirement already satisfied: joblib\u003e=0.11 in /usr/local/lib/python3.8/dist-packages (from scikit-learn\u003e=0.21.3-\u003eseqeval-\u003etf-models-official==2.9.2-\u003edeepconsensus[cpu]==1.1.0) (1.2.0)\n",
            "Requirement already satisfied: threadpoolctl\u003e=2.0.0 in /usr/local/lib/python3.8/dist-packages (from scikit-learn\u003e=0.21.3-\u003eseqeval-\u003etf-models-official==2.9.2-\u003edeepconsensus[cpu]==1.1.0) (3.1.0)\n",
            "Requirement already satisfied: zipp in /usr/local/lib/python3.8/dist-packages (from etils[epath]-\u003etensorflow-datasets-\u003etf-models-official==2.9.2-\u003edeepconsensus[cpu]==1.1.0) (3.11.0)\n",
            "Requirement already satisfied: text-unidecode\u003e=1.3 in /usr/local/lib/python3.8/dist-packages (from python-slugify-\u003ekaggle\u003e=1.3.9-\u003etf-models-official==2.9.2-\u003edeepconsensus[cpu]==1.1.0) (1.3)\n",
            "Requirement already satisfied: oauthlib\u003e=3.0.0 in /usr/local/lib/python3.8/dist-packages (from requests-oauthlib\u003e=0.7.0-\u003egoogle-auth-oauthlib\u003c0.5,\u003e=0.4.1-\u003etensorboard\u003c2.10,\u003e=2.9-\u003eintel-tensorflow==2.9.1-\u003edeepconsensus[cpu]==1.1.0) (3.2.2)\n",
            "Installing collected packages: sacrebleu, tensorflow-addons, pandas, ml-collections, seqeval, intel-tensorflow, tensorflow-text, tf-models-official, deepconsensus\n",
            "  Attempting uninstall: pandas\n",
            "    Found existing installation: pandas 1.3.5\n",
            "    Uninstalling pandas-1.3.5:\n",
            "      Successfully uninstalled pandas-1.3.5\n",
            "Successfully installed deepconsensus-1.1.0 intel-tensorflow-2.9.1 ml-collections-0.1.1 pandas-1.5.1 sacrebleu-2.3.1 seqeval-1.2.2 tensorflow-addons-0.19.0 tensorflow-text-2.9.0 tf-models-official-2.9.2\n",
            "\u001b[33mWARNING: Running pip as the 'root' user can result in broken permissions and conflicting behaviour with the system package manager. It is recommended to use a virtual environment instead: https://pip.pypa.io/warnings/venv\u001b[0m\u001b[33m\n",
            "\u001b[0m"
          ]
        }
      ],
      "source": [
        "! pip install --upgrade pip setuptools wheel\n",
        "! pip install deepconsensus[cpu]==1.1.0"
      ]
    },
    {
      "cell_type": "code",
      "execution_count": null,
      "metadata": {
        "id": "-8acrGN0gO3r"
      },
      "outputs": [],
      "source": [
        "import tensorflow as tf\n",
        "import colorama\n",
        "import numpy as np\n",
        "import random\n",
        "import PIL\n",
        "from IPython.display import display\n",
        "from deepconsensus.models import model_configs\n",
        "from deepconsensus.models import model_utils\n",
        "from deepconsensus.models import data_providers\n",
        "from deepconsensus.utils import dc_constants"
      ]
    },
    {
      "cell_type": "markdown",
      "metadata": {
        "id": "JeEhJhdjz-L9"
      },
      "source": [
        "## Define some useful visualization utilities"
      ]
    },
    {
      "cell_type": "code",
      "execution_count": null,
      "metadata": {
        "id": "eaNmK2KvDQu4"
      },
      "outputs": [],
      "source": [
        "def plot_array(arr, scale = 5):\n",
        "  \"\"\"Transforms array for plotting.\"\"\"\n",
        "  arr = np.copy(arr).astype('float64')\n",
        "  arr = np.where(arr \u003e 1.0e-10, arr, -10.0)\n",
        "  arr = np.log(arr, where=arr \u003e 0.0, out=arr) * 100.0\n",
        "  arr = np.where(arr \u003e 0, arr + 25.0, 0)\n",
        "  arr = arr.astype('uint8')\n",
        "  im = PIL.Image.fromarray(arr, 'P')\n",
        "  im = im.resize((im.size[0] * scale, im.size[1] * scale))\n",
        "  display(im)\n",
        "\n",
        "def show_rows_for_one_example(rows, max_passes=20):\n",
        "  \"\"\"Break out the black/white matrix into subreads, ccs, PW, IP, etc.\n",
        "\n",
        "  For each of `max_subreads`, we have four pieces of information: bases, PW, IP,\n",
        "  and strand. We also have one row for CCS, and four rows for SN (in that\n",
        "  order).\n",
        "  The information is structured as follows:\n",
        "  Bases: rows 0 to  (params.max_passes - 1)\n",
        "  PW: rows (params.max_passes) to (params.max_passes * 2 - 1)\n",
        "  IP: rows (params.max_passes * 2) to (params.max_passes * 3 - 1)\n",
        "  Strand: rows (params.max_passes * 3) to (params.max_passes * 4 - 1)\n",
        "  CCS+SN: rows (params.max_passes * 4) to (params.max_passes * 4 + 5)\n",
        "  \"\"\"\n",
        "  print('bases:')\n",
        "  plot_array(rows[0:max_passes])\n",
        "  print('PW: pulse-width')\n",
        "  pw = rows[max_passes:max_passes*2]\n",
        "  plot_array(pw)\n",
        "  print('IP: inter-pulse duration')\n",
        "  ip = rows[max_passes*2:max_passes*3]\n",
        "  plot_array(ip)\n",
        "\n",
        "  print('Strand:')\n",
        "  plot_array(rows[max_passes*3:-5])\n",
        "\n",
        "  print('CCS:')\n",
        "  ccs = rows[-5:-4]\n",
        "  plot_array(ccs)\n",
        "  print('SN:')\n",
        "  sn = rows[-4:]\n",
        "  plot_array(sn)"
      ]
    },
    {
      "cell_type": "code",
      "execution_count": null,
      "metadata": {
        "id": "I6JvBvGDz__7"
      },
      "outputs": [],
      "source": [
        "def encoded_sequence_to_string(encoded_sequence):\n",
        "  \"\"\"Convert an encoded sequence (a series of integers) to a DNA string.\"\"\"\n",
        "  return ''.join([dc_constants.SEQ_VOCAB[int(base)] for base in encoded_sequence])\n",
        "\n",
        "\n",
        "def get_ccs_matrix(rows_for_one_example):\n",
        "  \"\"\"Slice the encoded CCS out of the 2d rows matrix of one example.\"\"\"\n",
        "  return rows_for_one_example[-5, :]\n",
        "\n",
        "\n",
        "def get_ccs_seq(rows_for_one_example):\n",
        "  \"\"\"Get CCS string out of the 2d rows matrix of one example.\"\"\"\n",
        "  return encoded_sequence_to_string(get_ccs_matrix(rows_for_one_example))\n",
        "\n",
        "\n",
        "def colorful(seq):\n",
        "  \"\"\"Add colors to a sequence of DNA.\"\"\"\n",
        "  fore = colorama.Fore\n",
        "  background = colorama.Back\n",
        "  colors = {\n",
        "      'A': fore.GREEN,\n",
        "      'C': fore.BLUE,\n",
        "      'G': fore.YELLOW,\n",
        "      'T': fore.RED,\n",
        "      dc_constants.GAP: background.WHITE\n",
        "  }\n",
        "  reset = fore.BLACK + background.RESET\n",
        "  colored_seq = [f'{colors.get(base, reset)}{base}{reset}' for base in seq]\n",
        "  return ''.join(colored_seq)\n",
        "\n",
        "\n",
        "def show_example(batch, example_i, ypreds=None, max_passes=20):\n",
        "  \"\"\"Show an example with subreads, ccs, predictions, and labels.\"\"\"\n",
        "  batch_size = batch['rows'].shape[0]\n",
        "  rows = batch['rows'][example_i, :, :, 0]\n",
        "  ccs_i = get_ccs_seq(rows)\n",
        "  print(f'Example: {example_i} of {batch_size} (batch)')\n",
        "  print('How the sequences are represented for the model:')\n",
        "  subreads = rows[0:max_passes, :]\n",
        "  for subread_i in range(len(subreads)):\n",
        "    print(f'Subread {subread_i + 1}\\t',\n",
        "          colorful(encoded_sequence_to_string(subreads[subread_i, :])))\n",
        "  print('ccs:\\t\\t', colorful(ccs_i))\n",
        "  if ypreds is not None:\n",
        "    predicted_sequence = encoded_sequence_to_string(ypreds[example_i])\n",
        "    print('prediction:\\t', colorful(predicted_sequence))\n",
        "  if 'label' in batch:\n",
        "    label = encoded_sequence_to_string(batch['label'][example_i])\n",
        "    print('label:\\t\\t', colorful(label))\n",
        "  print('\\n')\n"
      ]
    },
    {
      "cell_type": "markdown",
      "metadata": {
        "id": "9ud2PAKoRkPQ"
      },
      "source": [
        "## Load the model"
      ]
    },
    {
      "cell_type": "code",
      "execution_count": null,
      "metadata": {
        "colab": {
          "base_uri": "https://localhost:8080/"
        },
        "executionInfo": {
          "elapsed": 6075,
          "status": "ok",
          "timestamp": 1671003164293,
          "user": {
            "displayName": "Anastasiya Belyaeva",
            "userId": "13030672936202985448"
          },
          "user_tz": 480
        },
        "id": "qSChLKTvJbbT",
        "outputId": "ff0b02ea-a76d-4872-f7db-e664e6c67292"
      },
      "outputs": [
        {
          "name": "stdout",
          "output_type": "stream",
          "text": [
            "Copying gs://brain-genomics-public/research/deepconsensus/models/v1.1/model_checkpoint/checkpoint.data-00000-of-00001...\n",
            "Copying gs://brain-genomics-public/research/deepconsensus/models/v1.1/model_checkpoint/checkpoint.index...\n",
            "Copying gs://brain-genomics-public/research/deepconsensus/models/v1.1/model_checkpoint/params.json...\n",
            "- [3 files][ 85.7 MiB/ 85.7 MiB]                                                \n",
            "Operation completed over 3 objects/85.7 MiB.                                     \n",
            "Copying gs://brain-genomics-public/research/deepconsensus/training-tutorial/v1.1/test/tf-test-00000-of-00500.tfrecord.gz...\n",
            "/ [1 files][  6.9 MiB/  6.9 MiB]                                                \n",
            "Operation completed over 1 objects/6.9 MiB.                                      \n"
          ]
        }
      ],
      "source": [
        "# Download Model\n",
        "! mkdir -p deepconsensus_model\n",
        "! gsutil cp -r gs://brain-genomics-public/research/deepconsensus/models/v1.1/model_checkpoint/* deepconsensus_model/\n",
        "# Download test data\n",
        "! gsutil cp gs://brain-genomics-public/research/deepconsensus/training-tutorial/v1.1/test/tf-test-00000-of-00500.tfrecord.gz ./tf-test.tfrecord.gz"
      ]
    },
    {
      "cell_type": "code",
      "execution_count": null,
      "metadata": {
        "colab": {
          "base_uri": "https://localhost:8080/"
        },
        "executionInfo": {
          "elapsed": 545,
          "status": "ok",
          "timestamp": 1671003183453,
          "user": {
            "displayName": "Anastasiya Belyaeva",
            "userId": "13030672936202985448"
          },
          "user_tz": 480
        },
        "id": "4j-SQrmrKOeB",
        "outputId": "9679277e-12e6-443b-d5af-c22de768f537"
      },
      "outputs": [
        {
          "name": "stdout",
          "output_type": "stream",
          "text": [
            "Model: \"encoder_only_learned_values_transformer\"\n",
            "_________________________________________________________________\n",
            " Layer (type)                Output Shape              Param #   \n",
            "=================================================================\n",
            " relative_position_embedding  multiple                 0         \n",
            "  (RelativePositionEmbedding                                     \n",
            " )                                                               \n",
            "                                                                 \n",
            " encoder_stack (EncoderStack  multiple                 7320200   \n",
            " )                                                               \n",
            "                                                                 \n",
            " dense (Dense)               multiple                  1405      \n",
            "                                                                 \n",
            " softmax (Softmax)           multiple                  0         \n",
            "                                                                 \n",
            " bases_embedding (ModifiedOn  multiple                 40        \n",
            " DeviceEmbedding)                                                \n",
            "                                                                 \n",
            " pw_embedding (ModifiedOnDev  multiple                 2048      \n",
            " iceEmbedding)                                                   \n",
            "                                                                 \n",
            " ip_embedding (ModifiedOnDev  multiple                 2048      \n",
            " iceEmbedding)                                                   \n",
            "                                                                 \n",
            " sn_embedding (ModifiedOnDev  multiple                 4008      \n",
            " iceEmbedding)                                                   \n",
            "                                                                 \n",
            " strand_embedding (ModifiedO  multiple                 6         \n",
            " nDeviceEmbedding)                                               \n",
            "                                                                 \n",
            " dense_1 (Dense)             multiple                  156800    \n",
            "                                                                 \n",
            "=================================================================\n",
            "Total params: 7,486,555\n",
            "Trainable params: 7,486,555\n",
            "Non-trainable params: 0\n",
            "_________________________________________________________________\n"
          ]
        }
      ],
      "source": [
        "checkpoint_path = 'deepconsensus_model/checkpoint'\n",
        "params = model_utils.read_params_from_json(checkpoint_path=checkpoint_path)\n",
        "\n",
        "model = model_utils.get_model(params)\n",
        "checkpoint = tf.train.Checkpoint(model=model)\n",
        "\n",
        "row_size = data_providers.get_total_rows(params.max_passes)\n",
        "input_shape = (1, row_size, params.max_length, params.num_channels)\n",
        "model_utils.print_model_summary(model, input_shape)\n",
        "checkpoint.restore(\n",
        "    checkpoint_path).expect_partial().assert_existing_objects_matched()\n",
        "\n",
        "model_utils.modify_params(\n",
        "  params=params,\n",
        "  speedy=True,\n",
        "  max_length=100,\n",
        "  is_training=False)"
      ]
    },
    {
      "cell_type": "markdown",
      "metadata": {
        "id": "q9l_un5cE7la"
      },
      "source": [
        "# Load examples from tfrecords"
      ]
    },
    {
      "cell_type": "code",
      "execution_count": null,
      "metadata": {
        "colab": {
          "base_uri": "https://localhost:8080/"
        },
        "executionInfo": {
          "elapsed": 1339,
          "status": "ok",
          "timestamp": 1671003188765,
          "user": {
            "displayName": "Anastasiya Belyaeva",
            "userId": "13030672936202985448"
          },
          "user_tz": 480
        },
        "id": "5LofUAISLJCk",
        "outputId": "7ae5228e-9daf-4d44-8d56-2f44ce47dfc7"
      },
      "outputs": [
        {
          "name": "stdout",
          "output_type": "stream",
          "text": [
            "name.shape: (20, 1)\n",
            "label.shape: (20, 100)\n",
            "rows.shape: (20, 85, 100, 1)\n",
            "num_passes.shape: (20, 1)\n",
            "window_pos.shape: (20, 1)\n"
          ]
        }
      ],
      "source": [
        "tfrecord_path = 'tf-test.tfrecord.gz'\n",
        "\n",
        "# Number of examples:\n",
        "batch_size = 20  #@param\n",
        "\n",
        "ds = data_providers.get_dataset(tfrecord_path,\n",
        "                                num_epochs=None,\n",
        "                                batch_size=batch_size,\n",
        "                                params=params,\n",
        "                                inference=False)\n",
        "\n",
        "# Just get one batch to inspect:\n",
        "for batch in ds.take(1):\n",
        "  break\n",
        "\n",
        "keys = ['name', 'label', 'rows', 'num_passes', 'window_pos']\n",
        "for key in keys:\n",
        "  print(f'{key}.shape: {batch[key].shape}')"
      ]
    },
    {
      "cell_type": "markdown",
      "metadata": {
        "id": "PNQh8unFFBY3"
      },
      "source": [
        "## Visualize the rows of one example. This is what the model sees.\n",
        "\n",
        "Rows is of shape `[batch_size, input_size, length, 1]`.\n",
        "\n",
        "So when we take `rows[example_i,:,:,0]`, that is one example in the batch, and we get a 2D matrix (getting rid of the last dimension that was only a placeholder for model code)."
      ]
    },
    {
      "cell_type": "code",
      "execution_count": null,
      "metadata": {
        "colab": {
          "base_uri": "https://localhost:8080/",
          "height": 529
        },
        "executionInfo": {
          "elapsed": 167,
          "status": "ok",
          "timestamp": 1671003192174,
          "user": {
            "displayName": "Anastasiya Belyaeva",
            "userId": "13030672936202985448"
          },
          "user_tz": 480
        },
        "id": "z_UtiU_a3K7b",
        "outputId": "c18b2e49-f91e-46d4-dee2-66791eeb8986"
      },
      "outputs": [
        {
          "name": "stdout",
          "output_type": "stream",
          "text": [
            "Example: 13 of 20 (batch)\n",
            "ZMW: b'm64014_200920_132517/50332363/ccs'\n",
            "window_pos: 21345 bp (where example starts within the CCS read)\n",
            "num_passes: 5 subreads\n",
            "What the model sees:\n"
          ]
        },
        {
          "data": {
            "image/png": "[encoded data removed]",
            "text/plain": [
              "\u003cPIL.Image.Image image mode=P size=500x425 at 0x7F0499C7A6A0\u003e"
            ]
          },
          "metadata": {},
          "output_type": "display_data"
        }
      ],
      "source": [
        "example_i = int(random.random() * batch_size)\n",
        "\n",
        "print(f'Example: {example_i} of {batch_size} (batch)')\n",
        "print('ZMW:', batch['name'][example_i].numpy()[0])\n",
        "print('window_pos:', int(batch['window_pos'][example_i].numpy()), 'bp (where example starts within the CCS read)')\n",
        "print('num_passes:', int(batch['num_passes'][example_i]), 'subreads')\n",
        "print('What the model sees:')\n",
        "\n",
        "plot_array(batch['rows'][example_i,:,:,0].numpy())\n"
      ]
    },
    {
      "cell_type": "markdown",
      "metadata": {
        "id": "vwMpZP4EFKbF"
      },
      "source": [
        "### Let's break that down\n",
        "\n",
        "Each matrix is composed of multiple data types layered in rows. The bases, pulse-width, inter-pulse duration, and strand are per-subread, up to the max number of subreads (this is in params.max_passes, which as of DeepConsensus v1.1 is 20). The input also contains a draft circular consensus sequence (CCS) from PacBio and the signal-to-noise ratio (SN)."
      ]
    },
    {
      "cell_type": "code",
      "execution_count": null,
      "metadata": {
        "colab": {
          "base_uri": "https://localhost:8080/",
          "height": 576
        },
        "executionInfo": {
          "elapsed": 172,
          "status": "ok",
          "timestamp": 1671003195092,
          "user": {
            "displayName": "Anastasiya Belyaeva",
            "userId": "13030672936202985448"
          },
          "user_tz": 480
        },
        "id": "o_n_pl8N6kmL",
        "outputId": "6ca4c7a7-54e9-424d-83de-e6d5c44765e9"
      },
      "outputs": [
        {
          "name": "stdout",
          "output_type": "stream",
          "text": [
            "Example: 13 of 20 (batch)\n",
            "bases:\n"
          ]
        },
        {
          "data": {
            "image/png": "[encoded data removed]",
            "text/plain": [
              "\u003cPIL.Image.Image image mode=P size=500x100 at 0x7F04ED826130\u003e"
            ]
          },
          "metadata": {},
          "output_type": "display_data"
        },
        {
          "name": "stdout",
          "output_type": "stream",
          "text": [
            "PW: pulse-width\n"
          ]
        },
        {
          "data": {
            "image/png": "[encoded data removed]",
            "text/plain": [
              "\u003cPIL.Image.Image image mode=P size=500x100 at 0x7F04ED826130\u003e"
            ]
          },
          "metadata": {},
          "output_type": "display_data"
        },
        {
          "name": "stdout",
          "output_type": "stream",
          "text": [
            "IP: inter-pulse duration\n"
          ]
        },
        {
          "data": {
            "image/png": "[encoded data removed]",
            "text/plain": [
              "\u003cPIL.Image.Image image mode=P size=500x100 at 0x7F04ED826130\u003e"
            ]
          },
          "metadata": {},
          "output_type": "display_data"
        },
        {
          "name": "stdout",
          "output_type": "stream",
          "text": [
            "Strand:\n"
          ]
        },
        {
          "data": {
            "image/png": "[encoded data removed]",
            "text/plain": [
              "\u003cPIL.Image.Image image mode=P size=500x100 at 0x7F04ED826B50\u003e"
            ]
          },
          "metadata": {},
          "output_type": "display_data"
        },
        {
          "name": "stdout",
          "output_type": "stream",
          "text": [
            "CCS:\n"
          ]
        },
        {
          "data": {
            "image/png": "[encoded data removed]",
            "text/plain": [
              "\u003cPIL.Image.Image image mode=P size=500x5 at 0x7F04ED8268B0\u003e"
            ]
          },
          "metadata": {},
          "output_type": "display_data"
        },
        {
          "name": "stdout",
          "output_type": "stream",
          "text": [
            "SN:\n"
          ]
        },
        {
          "data": {
            "image/png": "[encoded data removed]",
            "text/plain": [
              "\u003cPIL.Image.Image image mode=P size=500x20 at 0x7F04ED826550\u003e"
            ]
          },
          "metadata": {},
          "output_type": "display_data"
        }
      ],
      "source": [
        "print(f'Example: {example_i} of {batch_size} (batch)')\n",
        "show_rows_for_one_example(rows=batch['rows'][example_i,:,:,0].numpy())"
      ]
    },
    {
      "cell_type": "markdown",
      "metadata": {
        "id": "E1bfS54qJmKS"
      },
      "source": [
        "# Run the model\n",
        "\n",
        "Run the model on `rows`, which is the input data for the model that we visualized above."
      ]
    },
    {
      "cell_type": "code",
      "execution_count": null,
      "metadata": {
        "colab": {
          "base_uri": "https://localhost:8080/"
        },
        "executionInfo": {
          "elapsed": 750,
          "status": "ok",
          "timestamp": 1671003198042,
          "user": {
            "displayName": "Anastasiya Belyaeva",
            "userId": "13030672936202985448"
          },
          "user_tz": 480
        },
        "id": "PhZ9e3c4Ev_q",
        "outputId": "83f8785d-1b99-46dc-82e5-ad58b2dfc842"
      },
      "outputs": [
        {
          "name": "stdout",
          "output_type": "stream",
          "text": [
            "(20, 100, 5)\n"
          ]
        }
      ],
      "source": [
        "softmax_output = model.predict(batch['rows'])\n",
        "print(softmax_output.shape)"
      ]
    },
    {
      "cell_type": "code",
      "execution_count": null,
      "metadata": {
        "colab": {
          "base_uri": "https://localhost:8080/"
        },
        "executionInfo": {
          "elapsed": 175,
          "status": "ok",
          "timestamp": 1671003199425,
          "user": {
            "displayName": "Anastasiya Belyaeva",
            "userId": "13030672936202985448"
          },
          "user_tz": 480
        },
        "id": "1fUdN5Qk4BqR",
        "outputId": "ec3f1885-571b-40e8-ec94-87be878f864f"
      },
      "outputs": [
        {
          "name": "stdout",
          "output_type": "stream",
          "text": [
            "(20, 100)\n"
          ]
        }
      ],
      "source": [
        "y_preds = np.argmax(softmax_output, -1)\n",
        "print(y_preds.shape)"
      ]
    },
    {
      "cell_type": "markdown",
      "metadata": {
        "id": "ubbKa3ohHnNU"
      },
      "source": [
        "### Interpreting y_preds output"
      ]
    },
    {
      "cell_type": "code",
      "execution_count": null,
      "metadata": {
        "colab": {
          "base_uri": "https://localhost:8080/"
        },
        "executionInfo": {
          "elapsed": 184,
          "status": "ok",
          "timestamp": 1671003201807,
          "user": {
            "displayName": "Anastasiya Belyaeva",
            "userId": "13030672936202985448"
          },
          "user_tz": 480
        },
        "id": "Ccsv4-2tGY_B",
        "outputId": "784baa01-8deb-41ad-f063-32ccbde4b3e3"
      },
      "outputs": [
        {
          "name": "stdout",
          "output_type": "stream",
          "text": [
            "Prediction for example 13:\n",
            "[0 2 4 1 3 1 4 1 3 3 2 4 1 0 4 4 0 3 1 4 0 0 0 4 1 4 1 2 1 4 3 1 4 1 4 4 2\n",
            " 3 1 0 4 3 3 3 2 4 4 4 4 1 4 4 4 3 4 4 4 2 3 1 2 3 3 2 3 3 3 1 4 4 4 4 1 3\n",
            " 1 4 4 4 0 0 0 2 2 4 3 1 3 0 3 1 4 3 3 2 2 4 3 0 2 1]\n",
            "Which translates to:\n",
            " TGACAGACCTGA GG CAG   GAGATAGCAGAGGTCA GCCCTGGGGAGGGCGGGTCATCCTCCCAGGGGACAGGG   TTGCAC CAGCCTTGC TA\n"
          ]
        }
      ],
      "source": [
        "prediction = y_preds[example_i]\n",
        "print(f'Prediction for example {example_i}:')\n",
        "print(prediction)\n",
        "print('Which translates to:')\n",
        "print(encoded_sequence_to_string(prediction))"
      ]
    },
    {
      "cell_type": "code",
      "execution_count": null,
      "metadata": {
        "colab": {
          "base_uri": "https://localhost:8080/"
        },
        "executionInfo": {
          "elapsed": 183,
          "status": "ok",
          "timestamp": 1671003203511,
          "user": {
            "displayName": "Anastasiya Belyaeva",
            "userId": "13030672936202985448"
          },
          "user_tz": 480
        },
        "id": "aev-USdKHido",
        "outputId": "317a8738-e14b-405b-dbe1-c4a964ac47a4"
      },
      "outputs": [
        {
          "name": "stdout",
          "output_type": "stream",
          "text": [
            "For reference, the alphabet is:\n",
            "0 -\u003e \" \"\n",
            "1 -\u003e \"A\"\n",
            "2 -\u003e \"T\"\n",
            "3 -\u003e \"C\"\n",
            "4 -\u003e \"G\"\n"
          ]
        }
      ],
      "source": [
        "print('For reference, the alphabet is:')\n",
        "print('\\n'.join([f'{i} -\u003e \"{s}\"' for i,s in enumerate(dc_constants.SEQ_VOCAB)]))"
      ]
    },
    {
      "cell_type": "markdown",
      "metadata": {
        "id": "-h8WSfZ1xNB8"
      },
      "source": [
        "# Visualize example sequences alongside prediction and label"
      ]
    },
    {
      "cell_type": "code",
      "execution_count": null,
      "metadata": {
        "colab": {
          "base_uri": "https://localhost:8080/"
        },
        "executionInfo": {
          "elapsed": 794,
          "status": "ok",
          "timestamp": 1671003205691,
          "user": {
            "displayName": "Anastasiya Belyaeva",
            "userId": "13030672936202985448"
          },
          "user_tz": 480
        },
        "id": "575Hy7n-xTZS",
        "outputId": "af6f9b68-9bef-45cf-c0a1-f07e947693c5"
      },
      "outputs": [
        {
          "name": "stdout",
          "output_type": "stream",
          "text": [
            "Example: 13 of 20 (batch)\n",
            "How the sequences are represented for the model:\n",
            "Subread 1\t \u001b[47m \u001b[30m\u001b[49m\u001b[31mT\u001b[30m\u001b[49m\u001b[33mG\u001b[30m\u001b[49m\u001b[32mA\u001b[30m\u001b[49m\u001b[34mC\u001b[30m\u001b[49m\u001b[32mA\u001b[30m\u001b[49m\u001b[33mG\u001b[30m\u001b[49m\u001b[32mA\u001b[30m\u001b[49m\u001b[34mC\u001b[30m\u001b[49m\u001b[34mC\u001b[30m\u001b[49m\u001b[31mT\u001b[30m\u001b[49m\u001b[33mG\u001b[30m\u001b[49m\u001b[32mA\u001b[30m\u001b[49m\u001b[33mG\u001b[30m\u001b[49m\u001b[33mG\u001b[30m\u001b[49m\u001b[33mG\u001b[30m\u001b[49m\u001b[34mC\u001b[30m\u001b[49m\u001b[34mC\u001b[30m\u001b[49m\u001b[32mA\u001b[30m\u001b[49m\u001b[47m \u001b[30m\u001b[49m\u001b[47m \u001b[30m\u001b[49m\u001b[47m \u001b[30m\u001b[49m\u001b[47m \u001b[30m\u001b[49m\u001b[33mG\u001b[30m\u001b[49m\u001b[32mA\u001b[30m\u001b[49m\u001b[33mG\u001b[30m\u001b[49m\u001b[32mA\u001b[30m\u001b[49m\u001b[31mT\u001b[30m\u001b[49m\u001b[32mA\u001b[30m\u001b[49m\u001b[33mG\u001b[30m\u001b[49m\u001b[34mC\u001b[30m\u001b[49m\u001b[32mA\u001b[30m\u001b[49m\u001b[33mG\u001b[30m\u001b[49m\u001b[32mA\u001b[30m\u001b[49m\u001b[47m \u001b[30m\u001b[49m\u001b[33mG\u001b[30m\u001b[49m\u001b[31mT\u001b[30m\u001b[49m\u001b[34mC\u001b[30m\u001b[49m\u001b[32mA\u001b[30m\u001b[49m\u001b[31mT\u001b[30m\u001b[49m\u001b[33mG\u001b[30m\u001b[49m\u001b[34mC\u001b[30m\u001b[49m\u001b[34mC\u001b[30m\u001b[49m\u001b[34mC\u001b[30m\u001b[49m\u001b[31mT\u001b[30m\u001b[49m\u001b[33mG\u001b[30m\u001b[49m\u001b[33mG\u001b[30m\u001b[49m\u001b[33mG\u001b[30m\u001b[49m\u001b[33mG\u001b[30m\u001b[49m\u001b[33mG\u001b[30m\u001b[49m\u001b[33mG\u001b[30m\u001b[49m\u001b[33mG\u001b[30m\u001b[49m\u001b[33mG\u001b[30m\u001b[49m\u001b[34mC\u001b[30m\u001b[49m\u001b[33mG\u001b[30m\u001b[49m\u001b[33mG\u001b[30m\u001b[49m\u001b[33mG\u001b[30m\u001b[49m\u001b[31mT\u001b[30m\u001b[49m\u001b[34mC\u001b[30m\u001b[49m\u001b[32mA\u001b[30m\u001b[49m\u001b[31mT\u001b[30m\u001b[49m\u001b[34mC\u001b[30m\u001b[49m\u001b[34mC\u001b[30m\u001b[49m\u001b[31mT\u001b[30m\u001b[49m\u001b[34mC\u001b[30m\u001b[49m\u001b[34mC\u001b[30m\u001b[49m\u001b[34mC\u001b[30m\u001b[49m\u001b[32mA\u001b[30m\u001b[49m\u001b[33mG\u001b[30m\u001b[49m\u001b[33mG\u001b[30m\u001b[49m\u001b[33mG\u001b[30m\u001b[49m\u001b[33mG\u001b[30m\u001b[49m\u001b[32mA\u001b[30m\u001b[49m\u001b[34mC\u001b[30m\u001b[49m\u001b[32mA\u001b[30m\u001b[49m\u001b[33mG\u001b[30m\u001b[49m\u001b[33mG\u001b[30m\u001b[49m\u001b[33mG\u001b[30m\u001b[49m\u001b[47m \u001b[30m\u001b[49m\u001b[47m \u001b[30m\u001b[49m\u001b[47m \u001b[30m\u001b[49m\u001b[31mT\u001b[30m\u001b[49m\u001b[31mT\u001b[30m\u001b[49m\u001b[33mG\u001b[30m\u001b[49m\u001b[34mC\u001b[30m\u001b[49m\u001b[32mA\u001b[30m\u001b[49m\u001b[34mC\u001b[30m\u001b[49m\u001b[47m \u001b[30m\u001b[49m\u001b[34mC\u001b[30m\u001b[49m\u001b[32mA\u001b[30m\u001b[49m\u001b[33mG\u001b[30m\u001b[49m\u001b[34mC\u001b[30m\u001b[49m\u001b[34mC\u001b[30m\u001b[49m\u001b[31mT\u001b[30m\u001b[49m\u001b[31mT\u001b[30m\u001b[49m\u001b[33mG\u001b[30m\u001b[49m\u001b[34mC\u001b[30m\u001b[49m\u001b[47m \u001b[30m\u001b[49m\u001b[31mT\u001b[30m\u001b[49m\u001b[32mA\u001b[30m\u001b[49m\n",
            "Subread 2\t \u001b[47m \u001b[30m\u001b[49m\u001b[31mT\u001b[30m\u001b[49m\u001b[33mG\u001b[30m\u001b[49m\u001b[32mA\u001b[30m\u001b[49m\u001b[34mC\u001b[30m\u001b[49m\u001b[32mA\u001b[30m\u001b[49m\u001b[33mG\u001b[30m\u001b[49m\u001b[32mA\u001b[30m\u001b[49m\u001b[34mC\u001b[30m\u001b[49m\u001b[34mC\u001b[30m\u001b[49m\u001b[31mT\u001b[30m\u001b[49m\u001b[33mG\u001b[30m\u001b[49m\u001b[32mA\u001b[30m\u001b[49m\u001b[47m \u001b[30m\u001b[49m\u001b[33mG\u001b[30m\u001b[49m\u001b[33mG\u001b[30m\u001b[49m\u001b[34mC\u001b[30m\u001b[49m\u001b[34mC\u001b[30m\u001b[49m\u001b[32mA\u001b[30m\u001b[49m\u001b[33mG\u001b[30m\u001b[49m\u001b[47m \u001b[30m\u001b[49m\u001b[47m \u001b[30m\u001b[49m\u001b[47m \u001b[30m\u001b[49m\u001b[33mG\u001b[30m\u001b[49m\u001b[32mA\u001b[30m\u001b[49m\u001b[33mG\u001b[30m\u001b[49m\u001b[32mA\u001b[30m\u001b[49m\u001b[31mT\u001b[30m\u001b[49m\u001b[32mA\u001b[30m\u001b[49m\u001b[33mG\u001b[30m\u001b[49m\u001b[34mC\u001b[30m\u001b[49m\u001b[32mA\u001b[30m\u001b[49m\u001b[33mG\u001b[30m\u001b[49m\u001b[32mA\u001b[30m\u001b[49m\u001b[33mG\u001b[30m\u001b[49m\u001b[33mG\u001b[30m\u001b[49m\u001b[31mT\u001b[30m\u001b[49m\u001b[34mC\u001b[30m\u001b[49m\u001b[32mA\u001b[30m\u001b[49m\u001b[47m \u001b[30m\u001b[49m\u001b[33mG\u001b[30m\u001b[49m\u001b[34mC\u001b[30m\u001b[49m\u001b[34mC\u001b[30m\u001b[49m\u001b[34mC\u001b[30m\u001b[49m\u001b[31mT\u001b[30m\u001b[49m\u001b[33mG\u001b[30m\u001b[49m\u001b[33mG\u001b[30m\u001b[49m\u001b[33mG\u001b[30m\u001b[49m\u001b[33mG\u001b[30m\u001b[49m\u001b[32mA\u001b[30m\u001b[49m\u001b[33mG\u001b[30m\u001b[49m\u001b[33mG\u001b[30m\u001b[49m\u001b[47m \u001b[30m\u001b[49m\u001b[47m \u001b[30m\u001b[49m\u001b[33mG\u001b[30m\u001b[49m\u001b[33mG\u001b[30m\u001b[49m\u001b[33mG\u001b[30m\u001b[49m\u001b[31mT\u001b[30m\u001b[49m\u001b[34mC\u001b[30m\u001b[49m\u001b[32mA\u001b[30m\u001b[49m\u001b[31mT\u001b[30m\u001b[49m\u001b[34mC\u001b[30m\u001b[49m\u001b[34mC\u001b[30m\u001b[49m\u001b[31mT\u001b[30m\u001b[49m\u001b[34mC\u001b[30m\u001b[49m\u001b[34mC\u001b[30m\u001b[49m\u001b[34mC\u001b[30m\u001b[49m\u001b[32mA\u001b[30m\u001b[49m\u001b[33mG\u001b[30m\u001b[49m\u001b[33mG\u001b[30m\u001b[49m\u001b[33mG\u001b[30m\u001b[49m\u001b[33mG\u001b[30m\u001b[49m\u001b[32mA\u001b[30m\u001b[49m\u001b[34mC\u001b[30m\u001b[49m\u001b[31mT\u001b[30m\u001b[49m\u001b[33mG\u001b[30m\u001b[49m\u001b[33mG\u001b[30m\u001b[49m\u001b[33mG\u001b[30m\u001b[49m\u001b[47m \u001b[30m\u001b[49m\u001b[47m \u001b[30m\u001b[49m\u001b[47m \u001b[30m\u001b[49m\u001b[31mT\u001b[30m\u001b[49m\u001b[31mT\u001b[30m\u001b[49m\u001b[33mG\u001b[30m\u001b[49m\u001b[34mC\u001b[30m\u001b[49m\u001b[32mA\u001b[30m\u001b[49m\u001b[34mC\u001b[30m\u001b[49m\u001b[47m \u001b[30m\u001b[49m\u001b[34mC\u001b[30m\u001b[49m\u001b[32mA\u001b[30m\u001b[49m\u001b[33mG\u001b[30m\u001b[49m\u001b[34mC\u001b[30m\u001b[49m\u001b[34mC\u001b[30m\u001b[49m\u001b[31mT\u001b[30m\u001b[49m\u001b[31mT\u001b[30m\u001b[49m\u001b[33mG\u001b[30m\u001b[49m\u001b[34mC\u001b[30m\u001b[49m\u001b[47m \u001b[30m\u001b[49m\u001b[31mT\u001b[30m\u001b[49m\u001b[32mA\u001b[30m\u001b[49m\n",
            "Subread 3\t \u001b[47m \u001b[30m\u001b[49m\u001b[31mT\u001b[30m\u001b[49m\u001b[33mG\u001b[30m\u001b[49m\u001b[32mA\u001b[30m\u001b[49m\u001b[34mC\u001b[30m\u001b[49m\u001b[32mA\u001b[30m\u001b[49m\u001b[33mG\u001b[30m\u001b[49m\u001b[32mA\u001b[30m\u001b[49m\u001b[34mC\u001b[30m\u001b[49m\u001b[34mC\u001b[30m\u001b[49m\u001b[31mT\u001b[30m\u001b[49m\u001b[47m \u001b[30m\u001b[49m\u001b[32mA\u001b[30m\u001b[49m\u001b[33mG\u001b[30m\u001b[49m\u001b[33mG\u001b[30m\u001b[49m\u001b[33mG\u001b[30m\u001b[49m\u001b[31mT\u001b[30m\u001b[49m\u001b[34mC\u001b[30m\u001b[49m\u001b[32mA\u001b[30m\u001b[49m\u001b[33mG\u001b[30m\u001b[49m\u001b[47m \u001b[30m\u001b[49m\u001b[47m \u001b[30m\u001b[49m\u001b[47m \u001b[30m\u001b[49m\u001b[33mG\u001b[30m\u001b[49m\u001b[32mA\u001b[30m\u001b[49m\u001b[33mG\u001b[30m\u001b[49m\u001b[32mA\u001b[30m\u001b[49m\u001b[31mT\u001b[30m\u001b[49m\u001b[32mA\u001b[30m\u001b[49m\u001b[33mG\u001b[30m\u001b[49m\u001b[34mC\u001b[30m\u001b[49m\u001b[32mA\u001b[30m\u001b[49m\u001b[33mG\u001b[30m\u001b[49m\u001b[32mA\u001b[30m\u001b[49m\u001b[33mG\u001b[30m\u001b[49m\u001b[33mG\u001b[30m\u001b[49m\u001b[31mT\u001b[30m\u001b[49m\u001b[34mC\u001b[30m\u001b[49m\u001b[32mA\u001b[30m\u001b[49m\u001b[47m \u001b[30m\u001b[49m\u001b[33mG\u001b[30m\u001b[49m\u001b[34mC\u001b[30m\u001b[49m\u001b[34mC\u001b[30m\u001b[49m\u001b[34mC\u001b[30m\u001b[49m\u001b[31mT\u001b[30m\u001b[49m\u001b[47m \u001b[30m\u001b[49m\u001b[47m \u001b[30m\u001b[49m\u001b[33mG\u001b[30m\u001b[49m\u001b[33mG\u001b[30m\u001b[49m\u001b[32mA\u001b[30m\u001b[49m\u001b[33mG\u001b[30m\u001b[49m\u001b[31mT\u001b[30m\u001b[49m\u001b[33mG\u001b[30m\u001b[49m\u001b[33mG\u001b[30m\u001b[49m\u001b[33mG\u001b[30m\u001b[49m\u001b[33mG\u001b[30m\u001b[49m\u001b[33mG\u001b[30m\u001b[49m\u001b[31mT\u001b[30m\u001b[49m\u001b[34mC\u001b[30m\u001b[49m\u001b[32mA\u001b[30m\u001b[49m\u001b[31mT\u001b[30m\u001b[49m\u001b[34mC\u001b[30m\u001b[49m\u001b[34mC\u001b[30m\u001b[49m\u001b[31mT\u001b[30m\u001b[49m\u001b[34mC\u001b[30m\u001b[49m\u001b[34mC\u001b[30m\u001b[49m\u001b[34mC\u001b[30m\u001b[49m\u001b[32mA\u001b[30m\u001b[49m\u001b[33mG\u001b[30m\u001b[49m\u001b[33mG\u001b[30m\u001b[49m\u001b[33mG\u001b[30m\u001b[49m\u001b[33mG\u001b[30m\u001b[49m\u001b[32mA\u001b[30m\u001b[49m\u001b[34mC\u001b[30m\u001b[49m\u001b[32mA\u001b[30m\u001b[49m\u001b[33mG\u001b[30m\u001b[49m\u001b[33mG\u001b[30m\u001b[49m\u001b[33mG\u001b[30m\u001b[49m\u001b[47m \u001b[30m\u001b[49m\u001b[47m \u001b[30m\u001b[49m\u001b[47m \u001b[30m\u001b[49m\u001b[33mG\u001b[30m\u001b[49m\u001b[31mT\u001b[30m\u001b[49m\u001b[33mG\u001b[30m\u001b[49m\u001b[34mC\u001b[30m\u001b[49m\u001b[32mA\u001b[30m\u001b[49m\u001b[34mC\u001b[30m\u001b[49m\u001b[31mT\u001b[30m\u001b[49m\u001b[34mC\u001b[30m\u001b[49m\u001b[32mA\u001b[30m\u001b[49m\u001b[33mG\u001b[30m\u001b[49m\u001b[34mC\u001b[30m\u001b[49m\u001b[34mC\u001b[30m\u001b[49m\u001b[31mT\u001b[30m\u001b[49m\u001b[31mT\u001b[30m\u001b[49m\u001b[33mG\u001b[30m\u001b[49m\u001b[34mC\u001b[30m\u001b[49m\u001b[31mT\u001b[30m\u001b[49m\u001b[31mT\u001b[30m\u001b[49m\u001b[32mA\u001b[30m\u001b[49m\n",
            "Subread 4\t \u001b[31mT\u001b[30m\u001b[49m\u001b[31mT\u001b[30m\u001b[49m\u001b[33mG\u001b[30m\u001b[49m\u001b[32mA\u001b[30m\u001b[49m\u001b[34mC\u001b[30m\u001b[49m\u001b[32mA\u001b[30m\u001b[49m\u001b[33mG\u001b[30m\u001b[49m\u001b[32mA\u001b[30m\u001b[49m\u001b[47m \u001b[30m\u001b[49m\u001b[34mC\u001b[30m\u001b[49m\u001b[31mT\u001b[30m\u001b[49m\u001b[33mG\u001b[30m\u001b[49m\u001b[32mA\u001b[30m\u001b[49m\u001b[31mT\u001b[30m\u001b[49m\u001b[33mG\u001b[30m\u001b[49m\u001b[33mG\u001b[30m\u001b[49m\u001b[47m \u001b[30m\u001b[49m\u001b[34mC\u001b[30m\u001b[49m\u001b[32mA\u001b[30m\u001b[49m\u001b[33mG\u001b[30m\u001b[49m\u001b[33mG\u001b[30m\u001b[49m\u001b[32mA\u001b[30m\u001b[49m\u001b[31mT\u001b[30m\u001b[49m\u001b[33mG\u001b[30m\u001b[49m\u001b[32mA\u001b[30m\u001b[49m\u001b[33mG\u001b[30m\u001b[49m\u001b[32mA\u001b[30m\u001b[49m\u001b[31mT\u001b[30m\u001b[49m\u001b[32mA\u001b[30m\u001b[49m\u001b[33mG\u001b[30m\u001b[49m\u001b[34mC\u001b[30m\u001b[49m\u001b[32mA\u001b[30m\u001b[49m\u001b[33mG\u001b[30m\u001b[49m\u001b[32mA\u001b[30m\u001b[49m\u001b[33mG\u001b[30m\u001b[49m\u001b[33mG\u001b[30m\u001b[49m\u001b[31mT\u001b[30m\u001b[49m\u001b[34mC\u001b[30m\u001b[49m\u001b[32mA\u001b[30m\u001b[49m\u001b[47m \u001b[30m\u001b[49m\u001b[33mG\u001b[30m\u001b[49m\u001b[47m \u001b[30m\u001b[49m\u001b[34mC\u001b[30m\u001b[49m\u001b[34mC\u001b[30m\u001b[49m\u001b[31mT\u001b[30m\u001b[49m\u001b[33mG\u001b[30m\u001b[49m\u001b[33mG\u001b[30m\u001b[49m\u001b[33mG\u001b[30m\u001b[49m\u001b[33mG\u001b[30m\u001b[49m\u001b[32mA\u001b[30m\u001b[49m\u001b[33mG\u001b[30m\u001b[49m\u001b[33mG\u001b[30m\u001b[49m\u001b[33mG\u001b[30m\u001b[49m\u001b[34mC\u001b[30m\u001b[49m\u001b[33mG\u001b[30m\u001b[49m\u001b[33mG\u001b[30m\u001b[49m\u001b[33mG\u001b[30m\u001b[49m\u001b[31mT\u001b[30m\u001b[49m\u001b[34mC\u001b[30m\u001b[49m\u001b[32mA\u001b[30m\u001b[49m\u001b[31mT\u001b[30m\u001b[49m\u001b[34mC\u001b[30m\u001b[49m\u001b[32mA\u001b[30m\u001b[49m\u001b[32mA\u001b[30m\u001b[49m\u001b[34mC\u001b[30m\u001b[49m\u001b[34mC\u001b[30m\u001b[49m\u001b[34mC\u001b[30m\u001b[49m\u001b[32mA\u001b[30m\u001b[49m\u001b[47m \u001b[30m\u001b[49m\u001b[33mG\u001b[30m\u001b[49m\u001b[33mG\u001b[30m\u001b[49m\u001b[33mG\u001b[30m\u001b[49m\u001b[32mA\u001b[30m\u001b[49m\u001b[34mC\u001b[30m\u001b[49m\u001b[32mA\u001b[30m\u001b[49m\u001b[33mG\u001b[30m\u001b[49m\u001b[33mG\u001b[30m\u001b[49m\u001b[33mG\u001b[30m\u001b[49m\u001b[31mT\u001b[30m\u001b[49m\u001b[31mT\u001b[30m\u001b[49m\u001b[31mT\u001b[30m\u001b[49m\u001b[31mT\u001b[30m\u001b[49m\u001b[31mT\u001b[30m\u001b[49m\u001b[33mG\u001b[30m\u001b[49m\u001b[34mC\u001b[30m\u001b[49m\u001b[32mA\u001b[30m\u001b[49m\u001b[47m \u001b[30m\u001b[49m\u001b[47m \u001b[30m\u001b[49m\u001b[34mC\u001b[30m\u001b[49m\u001b[32mA\u001b[30m\u001b[49m\u001b[33mG\u001b[30m\u001b[49m\u001b[34mC\u001b[30m\u001b[49m\u001b[31mT\u001b[30m\u001b[49m\u001b[31mT\u001b[30m\u001b[49m\u001b[33mG\u001b[30m\u001b[49m\u001b[33mG\u001b[30m\u001b[49m\u001b[34mC\u001b[30m\u001b[49m\u001b[47m \u001b[30m\u001b[49m\u001b[31mT\u001b[30m\u001b[49m\u001b[32mA\u001b[30m\u001b[49m\n",
            "Subread 5\t \u001b[47m \u001b[30m\u001b[49m\u001b[47m \u001b[30m\u001b[49m\u001b[47m \u001b[30m\u001b[49m\u001b[47m \u001b[30m\u001b[49m\u001b[47m \u001b[30m\u001b[49m\u001b[47m \u001b[30m\u001b[49m\u001b[47m \u001b[30m\u001b[49m\u001b[47m \u001b[30m\u001b[49m\u001b[47m \u001b[30m\u001b[49m\u001b[47m \u001b[30m\u001b[49m\u001b[47m \u001b[30m\u001b[49m\u001b[47m \u001b[30m\u001b[49m\u001b[47m \u001b[30m\u001b[49m\u001b[47m \u001b[30m\u001b[49m\u001b[47m \u001b[30m\u001b[49m\u001b[47m \u001b[30m\u001b[49m\u001b[47m \u001b[30m\u001b[49m\u001b[47m \u001b[30m\u001b[49m\u001b[47m \u001b[30m\u001b[49m\u001b[47m \u001b[30m\u001b[49m\u001b[47m \u001b[30m\u001b[49m\u001b[47m \u001b[30m\u001b[49m\u001b[47m \u001b[30m\u001b[49m\u001b[47m \u001b[30m\u001b[49m\u001b[47m \u001b[30m\u001b[49m\u001b[47m \u001b[30m\u001b[49m\u001b[47m \u001b[30m\u001b[49m\u001b[47m \u001b[30m\u001b[49m\u001b[47m \u001b[30m\u001b[49m\u001b[47m \u001b[30m\u001b[49m\u001b[47m \u001b[30m\u001b[49m\u001b[47m \u001b[30m\u001b[49m\u001b[47m \u001b[30m\u001b[49m\u001b[47m \u001b[30m\u001b[49m\u001b[47m \u001b[30m\u001b[49m\u001b[47m \u001b[30m\u001b[49m\u001b[47m \u001b[30m\u001b[49m\u001b[47m \u001b[30m\u001b[49m\u001b[47m \u001b[30m\u001b[49m\u001b[47m \u001b[30m\u001b[49m\u001b[47m \u001b[30m\u001b[49m\u001b[47m \u001b[30m\u001b[49m\u001b[47m \u001b[30m\u001b[49m\u001b[47m \u001b[30m\u001b[49m\u001b[47m \u001b[30m\u001b[49m\u001b[47m \u001b[30m\u001b[49m\u001b[47m \u001b[30m\u001b[49m\u001b[47m \u001b[30m\u001b[49m\u001b[47m \u001b[30m\u001b[49m\u001b[47m \u001b[30m\u001b[49m\u001b[47m \u001b[30m\u001b[49m\u001b[47m \u001b[30m\u001b[49m\u001b[47m \u001b[30m\u001b[49m\u001b[47m \u001b[30m\u001b[49m\u001b[47m \u001b[30m\u001b[49m\u001b[47m \u001b[30m\u001b[49m\u001b[47m \u001b[30m\u001b[49m\u001b[47m \u001b[30m\u001b[49m\u001b[47m \u001b[30m\u001b[49m\u001b[47m \u001b[30m\u001b[49m\u001b[47m \u001b[30m\u001b[49m\u001b[47m \u001b[30m\u001b[49m\u001b[47m \u001b[30m\u001b[49m\u001b[47m \u001b[30m\u001b[49m\u001b[47m \u001b[30m\u001b[49m\u001b[47m \u001b[30m\u001b[49m\u001b[47m \u001b[30m\u001b[49m\u001b[47m \u001b[30m\u001b[49m\u001b[47m \u001b[30m\u001b[49m\u001b[47m \u001b[30m\u001b[49m\u001b[47m \u001b[30m\u001b[49m\u001b[47m \u001b[30m\u001b[49m\u001b[47m \u001b[30m\u001b[49m\u001b[47m \u001b[30m\u001b[49m\u001b[47m \u001b[30m\u001b[49m\u001b[47m \u001b[30m\u001b[49m\u001b[47m \u001b[30m\u001b[49m\u001b[47m \u001b[30m\u001b[49m\u001b[47m \u001b[30m\u001b[49m\u001b[47m \u001b[30m\u001b[49m\u001b[47m \u001b[30m\u001b[49m\u001b[47m \u001b[30m\u001b[49m\u001b[47m \u001b[30m\u001b[49m\u001b[47m \u001b[30m\u001b[49m\u001b[47m \u001b[30m\u001b[49m\u001b[47m \u001b[30m\u001b[49m\u001b[47m \u001b[30m\u001b[49m\u001b[47m \u001b[30m\u001b[49m\u001b[47m \u001b[30m\u001b[49m\u001b[47m \u001b[30m\u001b[49m\u001b[47m \u001b[30m\u001b[49m\u001b[47m \u001b[30m\u001b[49m\u001b[47m \u001b[30m\u001b[49m\u001b[47m \u001b[30m\u001b[49m\u001b[47m \u001b[30m\u001b[49m\u001b[47m \u001b[30m\u001b[49m\u001b[47m \u001b[30m\u001b[49m\u001b[47m \u001b[30m\u001b[49m\u001b[47m \u001b[30m\u001b[49m\u001b[47m \u001b[30m\u001b[49m\n",
            "Subread 6\t \u001b[47m \u001b[30m\u001b[49m\u001b[47m \u001b[30m\u001b[49m\u001b[47m \u001b[30m\u001b[49m\u001b[47m \u001b[30m\u001b[49m\u001b[47m \u001b[30m\u001b[49m\u001b[47m \u001b[30m\u001b[49m\u001b[47m \u001b[30m\u001b[49m\u001b[47m \u001b[30m\u001b[49m\u001b[47m \u001b[30m\u001b[49m\u001b[47m \u001b[30m\u001b[49m\u001b[47m \u001b[30m\u001b[49m\u001b[47m \u001b[30m\u001b[49m\u001b[47m \u001b[30m\u001b[49m\u001b[47m \u001b[30m\u001b[49m\u001b[47m \u001b[30m\u001b[49m\u001b[47m \u001b[30m\u001b[49m\u001b[47m \u001b[30m\u001b[49m\u001b[47m \u001b[30m\u001b[49m\u001b[47m \u001b[30m\u001b[49m\u001b[47m \u001b[30m\u001b[49m\u001b[47m \u001b[30m\u001b[49m\u001b[47m \u001b[30m\u001b[49m\u001b[47m \u001b[30m\u001b[49m\u001b[47m \u001b[30m\u001b[49m\u001b[47m \u001b[30m\u001b[49m\u001b[47m \u001b[30m\u001b[49m\u001b[47m \u001b[30m\u001b[49m\u001b[47m \u001b[30m\u001b[49m\u001b[47m \u001b[30m\u001b[49m\u001b[47m \u001b[30m\u001b[49m\u001b[47m \u001b[30m\u001b[49m\u001b[47m \u001b[30m\u001b[49m\u001b[47m \u001b[30m\u001b[49m\u001b[47m \u001b[30m\u001b[49m\u001b[47m \u001b[30m\u001b[49m\u001b[47m \u001b[30m\u001b[49m\u001b[47m \u001b[30m\u001b[49m\u001b[47m \u001b[30m\u001b[49m\u001b[47m \u001b[30m\u001b[49m\u001b[47m \u001b[30m\u001b[49m\u001b[47m \u001b[30m\u001b[49m\u001b[47m \u001b[30m\u001b[49m\u001b[47m \u001b[30m\u001b[49m\u001b[47m \u001b[30m\u001b[49m\u001b[47m \u001b[30m\u001b[49m\u001b[47m \u001b[30m\u001b[49m\u001b[47m \u001b[30m\u001b[49m\u001b[47m \u001b[30m\u001b[49m\u001b[47m \u001b[30m\u001b[49m\u001b[47m \u001b[30m\u001b[49m\u001b[47m \u001b[30m\u001b[49m\u001b[47m \u001b[30m\u001b[49m\u001b[47m \u001b[30m\u001b[49m\u001b[47m \u001b[30m\u001b[49m\u001b[47m \u001b[30m\u001b[49m\u001b[47m \u001b[30m\u001b[49m\u001b[47m \u001b[30m\u001b[49m\u001b[47m \u001b[30m\u001b[49m\u001b[47m \u001b[30m\u001b[49m\u001b[47m \u001b[30m\u001b[49m\u001b[47m \u001b[30m\u001b[49m\u001b[47m \u001b[30m\u001b[49m\u001b[47m \u001b[30m\u001b[49m\u001b[47m \u001b[30m\u001b[49m\u001b[47m \u001b[30m\u001b[49m\u001b[47m \u001b[30m\u001b[49m\u001b[47m \u001b[30m\u001b[49m\u001b[47m \u001b[30m\u001b[49m\u001b[47m \u001b[30m\u001b[49m\u001b[47m \u001b[30m\u001b[49m\u001b[47m \u001b[30m\u001b[49m\u001b[47m \u001b[30m\u001b[49m\u001b[47m \u001b[30m\u001b[49m\u001b[47m \u001b[30m\u001b[49m\u001b[47m \u001b[30m\u001b[49m\u001b[47m \u001b[30m\u001b[49m\u001b[47m \u001b[30m\u001b[49m\u001b[47m \u001b[30m\u001b[49m\u001b[47m \u001b[30m\u001b[49m\u001b[47m \u001b[30m\u001b[49m\u001b[47m \u001b[30m\u001b[49m\u001b[47m \u001b[30m\u001b[49m\u001b[47m \u001b[30m\u001b[49m\u001b[47m \u001b[30m\u001b[49m\u001b[47m \u001b[30m\u001b[49m\u001b[47m \u001b[30m\u001b[49m\u001b[47m \u001b[30m\u001b[49m\u001b[47m \u001b[30m\u001b[49m\u001b[47m \u001b[30m\u001b[49m\u001b[47m \u001b[30m\u001b[49m\u001b[47m \u001b[30m\u001b[49m\u001b[47m \u001b[30m\u001b[49m\u001b[47m \u001b[30m\u001b[49m\u001b[47m \u001b[30m\u001b[49m\u001b[47m \u001b[30m\u001b[49m\u001b[47m \u001b[30m\u001b[49m\u001b[47m \u001b[30m\u001b[49m\u001b[47m \u001b[30m\u001b[49m\u001b[47m \u001b[30m\u001b[49m\u001b[47m \u001b[30m\u001b[49m\n",
            "Subread 7\t \u001b[47m \u001b[30m\u001b[49m\u001b[47m \u001b[30m\u001b[49m\u001b[47m \u001b[30m\u001b[49m\u001b[47m \u001b[30m\u001b[49m\u001b[47m \u001b[30m\u001b[49m\u001b[47m \u001b[30m\u001b[49m\u001b[47m \u001b[30m\u001b[49m\u001b[47m \u001b[30m\u001b[49m\u001b[47m \u001b[30m\u001b[49m\u001b[47m \u001b[30m\u001b[49m\u001b[47m \u001b[30m\u001b[49m\u001b[47m \u001b[30m\u001b[49m\u001b[47m \u001b[30m\u001b[49m\u001b[47m \u001b[30m\u001b[49m\u001b[47m \u001b[30m\u001b[49m\u001b[47m \u001b[30m\u001b[49m\u001b[47m \u001b[30m\u001b[49m\u001b[47m \u001b[30m\u001b[49m\u001b[47m \u001b[30m\u001b[49m\u001b[47m \u001b[30m\u001b[49m\u001b[47m \u001b[30m\u001b[49m\u001b[47m \u001b[30m\u001b[49m\u001b[47m \u001b[30m\u001b[49m\u001b[47m \u001b[30m\u001b[49m\u001b[47m \u001b[30m\u001b[49m\u001b[47m \u001b[30m\u001b[49m\u001b[47m \u001b[30m\u001b[49m\u001b[47m \u001b[30m\u001b[49m\u001b[47m \u001b[30m\u001b[49m\u001b[47m \u001b[30m\u001b[49m\u001b[47m \u001b[30m\u001b[49m\u001b[47m \u001b[30m\u001b[49m\u001b[47m \u001b[30m\u001b[49m\u001b[47m \u001b[30m\u001b[49m\u001b[47m \u001b[30m\u001b[49m\u001b[47m \u001b[30m\u001b[49m\u001b[47m \u001b[30m\u001b[49m\u001b[47m \u001b[30m\u001b[49m\u001b[47m \u001b[30m\u001b[49m\u001b[47m \u001b[30m\u001b[49m\u001b[47m \u001b[30m\u001b[49m\u001b[47m \u001b[30m\u001b[49m\u001b[47m \u001b[30m\u001b[49m\u001b[47m \u001b[30m\u001b[49m\u001b[47m \u001b[30m\u001b[49m\u001b[47m \u001b[30m\u001b[49m\u001b[47m \u001b[30m\u001b[49m\u001b[47m \u001b[30m\u001b[49m\u001b[47m \u001b[30m\u001b[49m\u001b[47m \u001b[30m\u001b[49m\u001b[47m \u001b[30m\u001b[49m\u001b[47m \u001b[30m\u001b[49m\u001b[47m \u001b[30m\u001b[49m\u001b[47m \u001b[30m\u001b[49m\u001b[47m \u001b[30m\u001b[49m\u001b[47m \u001b[30m\u001b[49m\u001b[47m \u001b[30m\u001b[49m\u001b[47m \u001b[30m\u001b[49m\u001b[47m \u001b[30m\u001b[49m\u001b[47m \u001b[30m\u001b[49m\u001b[47m \u001b[30m\u001b[49m\u001b[47m \u001b[30m\u001b[49m\u001b[47m \u001b[30m\u001b[49m\u001b[47m \u001b[30m\u001b[49m\u001b[47m \u001b[30m\u001b[49m\u001b[47m \u001b[30m\u001b[49m\u001b[47m \u001b[30m\u001b[49m\u001b[47m \u001b[30m\u001b[49m\u001b[47m \u001b[30m\u001b[49m\u001b[47m \u001b[30m\u001b[49m\u001b[47m \u001b[30m\u001b[49m\u001b[47m \u001b[30m\u001b[49m\u001b[47m \u001b[30m\u001b[49m\u001b[47m \u001b[30m\u001b[49m\u001b[47m \u001b[30m\u001b[49m\u001b[47m \u001b[30m\u001b[49m\u001b[47m \u001b[30m\u001b[49m\u001b[47m \u001b[30m\u001b[49m\u001b[47m \u001b[30m\u001b[49m\u001b[47m \u001b[30m\u001b[49m\u001b[47m \u001b[30m\u001b[49m\u001b[47m \u001b[30m\u001b[49m\u001b[47m \u001b[30m\u001b[49m\u001b[47m \u001b[30m\u001b[49m\u001b[47m \u001b[30m\u001b[49m\u001b[47m \u001b[30m\u001b[49m\u001b[47m \u001b[30m\u001b[49m\u001b[47m \u001b[30m\u001b[49m\u001b[47m \u001b[30m\u001b[49m\u001b[47m \u001b[30m\u001b[49m\u001b[47m \u001b[30m\u001b[49m\u001b[47m \u001b[30m\u001b[49m\u001b[47m \u001b[30m\u001b[49m\u001b[47m \u001b[30m\u001b[49m\u001b[47m \u001b[30m\u001b[49m\u001b[47m \u001b[30m\u001b[49m\u001b[47m \u001b[30m\u001b[49m\u001b[47m \u001b[30m\u001b[49m\u001b[47m \u001b[30m\u001b[49m\u001b[47m \u001b[30m\u001b[49m\n",
            "Subread 8\t \u001b[47m \u001b[30m\u001b[49m\u001b[47m \u001b[30m\u001b[49m\u001b[47m \u001b[30m\u001b[49m\u001b[47m \u001b[30m\u001b[49m\u001b[47m \u001b[30m\u001b[49m\u001b[47m \u001b[30m\u001b[49m\u001b[47m \u001b[30m\u001b[49m\u001b[47m \u001b[30m\u001b[49m\u001b[47m \u001b[30m\u001b[49m\u001b[47m \u001b[30m\u001b[49m\u001b[47m \u001b[30m\u001b[49m\u001b[47m \u001b[30m\u001b[49m\u001b[47m \u001b[30m\u001b[49m\u001b[47m \u001b[30m\u001b[49m\u001b[47m \u001b[30m\u001b[49m\u001b[47m \u001b[30m\u001b[49m\u001b[47m \u001b[30m\u001b[49m\u001b[47m \u001b[30m\u001b[49m\u001b[47m \u001b[30m\u001b[49m\u001b[47m \u001b[30m\u001b[49m\u001b[47m \u001b[30m\u001b[49m\u001b[47m \u001b[30m\u001b[49m\u001b[47m \u001b[30m\u001b[49m\u001b[47m \u001b[30m\u001b[49m\u001b[47m \u001b[30m\u001b[49m\u001b[47m \u001b[30m\u001b[49m\u001b[47m \u001b[30m\u001b[49m\u001b[47m \u001b[30m\u001b[49m\u001b[47m \u001b[30m\u001b[49m\u001b[47m \u001b[30m\u001b[49m\u001b[47m \u001b[30m\u001b[49m\u001b[47m \u001b[30m\u001b[49m\u001b[47m \u001b[30m\u001b[49m\u001b[47m \u001b[30m\u001b[49m\u001b[47m \u001b[30m\u001b[49m\u001b[47m \u001b[30m\u001b[49m\u001b[47m \u001b[30m\u001b[49m\u001b[47m \u001b[30m\u001b[49m\u001b[47m \u001b[30m\u001b[49m\u001b[47m \u001b[30m\u001b[49m\u001b[47m \u001b[30m\u001b[49m\u001b[47m \u001b[30m\u001b[49m\u001b[47m \u001b[30m\u001b[49m\u001b[47m \u001b[30m\u001b[49m\u001b[47m \u001b[30m\u001b[49m\u001b[47m \u001b[30m\u001b[49m\u001b[47m \u001b[30m\u001b[49m\u001b[47m \u001b[30m\u001b[49m\u001b[47m \u001b[30m\u001b[49m\u001b[47m \u001b[30m\u001b[49m\u001b[47m \u001b[30m\u001b[49m\u001b[47m \u001b[30m\u001b[49m\u001b[47m \u001b[30m\u001b[49m\u001b[47m \u001b[30m\u001b[49m\u001b[47m \u001b[30m\u001b[49m\u001b[47m \u001b[30m\u001b[49m\u001b[47m \u001b[30m\u001b[49m\u001b[47m \u001b[30m\u001b[49m\u001b[47m \u001b[30m\u001b[49m\u001b[47m \u001b[30m\u001b[49m\u001b[47m \u001b[30m\u001b[49m\u001b[47m \u001b[30m\u001b[49m\u001b[47m \u001b[30m\u001b[49m\u001b[47m \u001b[30m\u001b[49m\u001b[47m \u001b[30m\u001b[49m\u001b[47m \u001b[30m\u001b[49m\u001b[47m \u001b[30m\u001b[49m\u001b[47m \u001b[30m\u001b[49m\u001b[47m \u001b[30m\u001b[49m\u001b[47m \u001b[30m\u001b[49m\u001b[47m \u001b[30m\u001b[49m\u001b[47m \u001b[30m\u001b[49m\u001b[47m \u001b[30m\u001b[49m\u001b[47m \u001b[30m\u001b[49m\u001b[47m \u001b[30m\u001b[49m\u001b[47m \u001b[30m\u001b[49m\u001b[47m \u001b[30m\u001b[49m\u001b[47m \u001b[30m\u001b[49m\u001b[47m \u001b[30m\u001b[49m\u001b[47m \u001b[30m\u001b[49m\u001b[47m \u001b[30m\u001b[49m\u001b[47m \u001b[30m\u001b[49m\u001b[47m \u001b[30m\u001b[49m\u001b[47m \u001b[30m\u001b[49m\u001b[47m \u001b[30m\u001b[49m\u001b[47m \u001b[30m\u001b[49m\u001b[47m \u001b[30m\u001b[49m\u001b[47m \u001b[30m\u001b[49m\u001b[47m \u001b[30m\u001b[49m\u001b[47m \u001b[30m\u001b[49m\u001b[47m \u001b[30m\u001b[49m\u001b[47m \u001b[30m\u001b[49m\u001b[47m \u001b[30m\u001b[49m\u001b[47m \u001b[30m\u001b[49m\u001b[47m \u001b[30m\u001b[49m\u001b[47m \u001b[30m\u001b[49m\u001b[47m \u001b[30m\u001b[49m\u001b[47m \u001b[30m\u001b[49m\u001b[47m \u001b[30m\u001b[49m\u001b[47m \u001b[30m\u001b[49m\n",
            "Subread 9\t \u001b[47m \u001b[30m\u001b[49m\u001b[47m \u001b[30m\u001b[49m\u001b[47m \u001b[30m\u001b[49m\u001b[47m \u001b[30m\u001b[49m\u001b[47m \u001b[30m\u001b[49m\u001b[47m \u001b[30m\u001b[49m\u001b[47m \u001b[30m\u001b[49m\u001b[47m \u001b[30m\u001b[49m\u001b[47m \u001b[30m\u001b[49m\u001b[47m \u001b[30m\u001b[49m\u001b[47m \u001b[30m\u001b[49m\u001b[47m \u001b[30m\u001b[49m\u001b[47m \u001b[30m\u001b[49m\u001b[47m \u001b[30m\u001b[49m\u001b[47m \u001b[30m\u001b[49m\u001b[47m \u001b[30m\u001b[49m\u001b[47m \u001b[30m\u001b[49m\u001b[47m \u001b[30m\u001b[49m\u001b[47m \u001b[30m\u001b[49m\u001b[47m \u001b[30m\u001b[49m\u001b[47m \u001b[30m\u001b[49m\u001b[47m \u001b[30m\u001b[49m\u001b[47m \u001b[30m\u001b[49m\u001b[47m \u001b[30m\u001b[49m\u001b[47m \u001b[30m\u001b[49m\u001b[47m \u001b[30m\u001b[49m\u001b[47m \u001b[30m\u001b[49m\u001b[47m \u001b[30m\u001b[49m\u001b[47m \u001b[30m\u001b[49m\u001b[47m \u001b[30m\u001b[49m\u001b[47m \u001b[30m\u001b[49m\u001b[47m \u001b[30m\u001b[49m\u001b[47m \u001b[30m\u001b[49m\u001b[47m \u001b[30m\u001b[49m\u001b[47m \u001b[30m\u001b[49m\u001b[47m \u001b[30m\u001b[49m\u001b[47m \u001b[30m\u001b[49m\u001b[47m \u001b[30m\u001b[49m\u001b[47m \u001b[30m\u001b[49m\u001b[47m \u001b[30m\u001b[49m\u001b[47m \u001b[30m\u001b[49m\u001b[47m \u001b[30m\u001b[49m\u001b[47m \u001b[30m\u001b[49m\u001b[47m \u001b[30m\u001b[49m\u001b[47m \u001b[30m\u001b[49m\u001b[47m \u001b[30m\u001b[49m\u001b[47m \u001b[30m\u001b[49m\u001b[47m \u001b[30m\u001b[49m\u001b[47m \u001b[30m\u001b[49m\u001b[47m \u001b[30m\u001b[49m\u001b[47m \u001b[30m\u001b[49m\u001b[47m \u001b[30m\u001b[49m\u001b[47m \u001b[30m\u001b[49m\u001b[47m \u001b[30m\u001b[49m\u001b[47m \u001b[30m\u001b[49m\u001b[47m \u001b[30m\u001b[49m\u001b[47m \u001b[30m\u001b[49m\u001b[47m \u001b[30m\u001b[49m\u001b[47m \u001b[30m\u001b[49m\u001b[47m \u001b[30m\u001b[49m\u001b[47m \u001b[30m\u001b[49m\u001b[47m \u001b[30m\u001b[49m\u001b[47m \u001b[30m\u001b[49m\u001b[47m \u001b[30m\u001b[49m\u001b[47m \u001b[30m\u001b[49m\u001b[47m \u001b[30m\u001b[49m\u001b[47m \u001b[30m\u001b[49m\u001b[47m \u001b[30m\u001b[49m\u001b[47m \u001b[30m\u001b[49m\u001b[47m \u001b[30m\u001b[49m\u001b[47m \u001b[30m\u001b[49m\u001b[47m \u001b[30m\u001b[49m\u001b[47m \u001b[30m\u001b[49m\u001b[47m \u001b[30m\u001b[49m\u001b[47m \u001b[30m\u001b[49m\u001b[47m \u001b[30m\u001b[49m\u001b[47m \u001b[30m\u001b[49m\u001b[47m \u001b[30m\u001b[49m\u001b[47m \u001b[30m\u001b[49m\u001b[47m \u001b[30m\u001b[49m\u001b[47m \u001b[30m\u001b[49m\u001b[47m \u001b[30m\u001b[49m\u001b[47m \u001b[30m\u001b[49m\u001b[47m \u001b[30m\u001b[49m\u001b[47m \u001b[30m\u001b[49m\u001b[47m \u001b[30m\u001b[49m\u001b[47m \u001b[30m\u001b[49m\u001b[47m \u001b[30m\u001b[49m\u001b[47m \u001b[30m\u001b[49m\u001b[47m \u001b[30m\u001b[49m\u001b[47m \u001b[30m\u001b[49m\u001b[47m \u001b[30m\u001b[49m\u001b[47m \u001b[30m\u001b[49m\u001b[47m \u001b[30m\u001b[49m\u001b[47m \u001b[30m\u001b[49m\u001b[47m \u001b[30m\u001b[49m\u001b[47m \u001b[30m\u001b[49m\u001b[47m \u001b[30m\u001b[49m\u001b[47m \u001b[30m\u001b[49m\u001b[47m \u001b[30m\u001b[49m\n",
            "Subread 10\t \u001b[47m \u001b[30m\u001b[49m\u001b[47m \u001b[30m\u001b[49m\u001b[47m \u001b[30m\u001b[49m\u001b[47m \u001b[30m\u001b[49m\u001b[47m \u001b[30m\u001b[49m\u001b[47m \u001b[30m\u001b[49m\u001b[47m \u001b[30m\u001b[49m\u001b[47m \u001b[30m\u001b[49m\u001b[47m \u001b[30m\u001b[49m\u001b[47m \u001b[30m\u001b[49m\u001b[47m \u001b[30m\u001b[49m\u001b[47m \u001b[30m\u001b[49m\u001b[47m \u001b[30m\u001b[49m\u001b[47m \u001b[30m\u001b[49m\u001b[47m \u001b[30m\u001b[49m\u001b[47m \u001b[30m\u001b[49m\u001b[47m \u001b[30m\u001b[49m\u001b[47m \u001b[30m\u001b[49m\u001b[47m \u001b[30m\u001b[49m\u001b[47m \u001b[30m\u001b[49m\u001b[47m \u001b[30m\u001b[49m\u001b[47m \u001b[30m\u001b[49m\u001b[47m \u001b[30m\u001b[49m\u001b[47m \u001b[30m\u001b[49m\u001b[47m \u001b[30m\u001b[49m\u001b[47m \u001b[30m\u001b[49m\u001b[47m \u001b[30m\u001b[49m\u001b[47m \u001b[30m\u001b[49m\u001b[47m \u001b[30m\u001b[49m\u001b[47m \u001b[30m\u001b[49m\u001b[47m \u001b[30m\u001b[49m\u001b[47m \u001b[30m\u001b[49m\u001b[47m \u001b[30m\u001b[49m\u001b[47m \u001b[30m\u001b[49m\u001b[47m \u001b[30m\u001b[49m\u001b[47m \u001b[30m\u001b[49m\u001b[47m \u001b[30m\u001b[49m\u001b[47m \u001b[30m\u001b[49m\u001b[47m \u001b[30m\u001b[49m\u001b[47m \u001b[30m\u001b[49m\u001b[47m \u001b[30m\u001b[49m\u001b[47m \u001b[30m\u001b[49m\u001b[47m \u001b[30m\u001b[49m\u001b[47m \u001b[30m\u001b[49m\u001b[47m \u001b[30m\u001b[49m\u001b[47m \u001b[30m\u001b[49m\u001b[47m \u001b[30m\u001b[49m\u001b[47m \u001b[30m\u001b[49m\u001b[47m \u001b[30m\u001b[49m\u001b[47m \u001b[30m\u001b[49m\u001b[47m \u001b[30m\u001b[49m\u001b[47m \u001b[30m\u001b[49m\u001b[47m \u001b[30m\u001b[49m\u001b[47m \u001b[30m\u001b[49m\u001b[47m \u001b[30m\u001b[49m\u001b[47m \u001b[30m\u001b[49m\u001b[47m \u001b[30m\u001b[49m\u001b[47m \u001b[30m\u001b[49m\u001b[47m \u001b[30m\u001b[49m\u001b[47m \u001b[30m\u001b[49m\u001b[47m \u001b[30m\u001b[49m\u001b[47m \u001b[30m\u001b[49m\u001b[47m \u001b[30m\u001b[49m\u001b[47m \u001b[30m\u001b[49m\u001b[47m \u001b[30m\u001b[49m\u001b[47m \u001b[30m\u001b[49m\u001b[47m \u001b[30m\u001b[49m\u001b[47m \u001b[30m\u001b[49m\u001b[47m \u001b[30m\u001b[49m\u001b[47m \u001b[30m\u001b[49m\u001b[47m \u001b[30m\u001b[49m\u001b[47m \u001b[30m\u001b[49m\u001b[47m \u001b[30m\u001b[49m\u001b[47m \u001b[30m\u001b[49m\u001b[47m \u001b[30m\u001b[49m\u001b[47m \u001b[30m\u001b[49m\u001b[47m \u001b[30m\u001b[49m\u001b[47m \u001b[30m\u001b[49m\u001b[47m \u001b[30m\u001b[49m\u001b[47m \u001b[30m\u001b[49m\u001b[47m \u001b[30m\u001b[49m\u001b[47m \u001b[30m\u001b[49m\u001b[47m \u001b[30m\u001b[49m\u001b[47m \u001b[30m\u001b[49m\u001b[47m \u001b[30m\u001b[49m\u001b[47m \u001b[30m\u001b[49m\u001b[47m \u001b[30m\u001b[49m\u001b[47m \u001b[30m\u001b[49m\u001b[47m \u001b[30m\u001b[49m\u001b[47m \u001b[30m\u001b[49m\u001b[47m \u001b[30m\u001b[49m\u001b[47m \u001b[30m\u001b[49m\u001b[47m \u001b[30m\u001b[49m\u001b[47m \u001b[30m\u001b[49m\u001b[47m \u001b[30m\u001b[49m\u001b[47m \u001b[30m\u001b[49m\u001b[47m \u001b[30m\u001b[49m\u001b[47m \u001b[30m\u001b[49m\u001b[47m \u001b[30m\u001b[49m\u001b[47m \u001b[30m\u001b[49m\n",
            "Subread 11\t \u001b[47m \u001b[30m\u001b[49m\u001b[47m \u001b[30m\u001b[49m\u001b[47m \u001b[30m\u001b[49m\u001b[47m \u001b[30m\u001b[49m\u001b[47m \u001b[30m\u001b[49m\u001b[47m \u001b[30m\u001b[49m\u001b[47m \u001b[30m\u001b[49m\u001b[47m \u001b[30m\u001b[49m\u001b[47m \u001b[30m\u001b[49m\u001b[47m \u001b[30m\u001b[49m\u001b[47m \u001b[30m\u001b[49m\u001b[47m \u001b[30m\u001b[49m\u001b[47m \u001b[30m\u001b[49m\u001b[47m \u001b[30m\u001b[49m\u001b[47m \u001b[30m\u001b[49m\u001b[47m \u001b[30m\u001b[49m\u001b[47m \u001b[30m\u001b[49m\u001b[47m \u001b[30m\u001b[49m\u001b[47m \u001b[30m\u001b[49m\u001b[47m \u001b[30m\u001b[49m\u001b[47m \u001b[30m\u001b[49m\u001b[47m \u001b[30m\u001b[49m\u001b[47m \u001b[30m\u001b[49m\u001b[47m \u001b[30m\u001b[49m\u001b[47m \u001b[30m\u001b[49m\u001b[47m \u001b[30m\u001b[49m\u001b[47m \u001b[30m\u001b[49m\u001b[47m \u001b[30m\u001b[49m\u001b[47m \u001b[30m\u001b[49m\u001b[47m \u001b[30m\u001b[49m\u001b[47m \u001b[30m\u001b[49m\u001b[47m \u001b[30m\u001b[49m\u001b[47m \u001b[30m\u001b[49m\u001b[47m \u001b[30m\u001b[49m\u001b[47m \u001b[30m\u001b[49m\u001b[47m \u001b[30m\u001b[49m\u001b[47m \u001b[30m\u001b[49m\u001b[47m \u001b[30m\u001b[49m\u001b[47m \u001b[30m\u001b[49m\u001b[47m \u001b[30m\u001b[49m\u001b[47m \u001b[30m\u001b[49m\u001b[47m \u001b[30m\u001b[49m\u001b[47m \u001b[30m\u001b[49m\u001b[47m \u001b[30m\u001b[49m\u001b[47m \u001b[30m\u001b[49m\u001b[47m \u001b[30m\u001b[49m\u001b[47m \u001b[30m\u001b[49m\u001b[47m \u001b[30m\u001b[49m\u001b[47m \u001b[30m\u001b[49m\u001b[47m \u001b[30m\u001b[49m\u001b[47m \u001b[30m\u001b[49m\u001b[47m \u001b[30m\u001b[49m\u001b[47m \u001b[30m\u001b[49m\u001b[47m \u001b[30m\u001b[49m\u001b[47m \u001b[30m\u001b[49m\u001b[47m \u001b[30m\u001b[49m\u001b[47m \u001b[30m\u001b[49m\u001b[47m \u001b[30m\u001b[49m\u001b[47m \u001b[30m\u001b[49m\u001b[47m \u001b[30m\u001b[49m\u001b[47m \u001b[30m\u001b[49m\u001b[47m \u001b[30m\u001b[49m\u001b[47m \u001b[30m\u001b[49m\u001b[47m \u001b[30m\u001b[49m\u001b[47m \u001b[30m\u001b[49m\u001b[47m \u001b[30m\u001b[49m\u001b[47m \u001b[30m\u001b[49m\u001b[47m \u001b[30m\u001b[49m\u001b[47m \u001b[30m\u001b[49m\u001b[47m \u001b[30m\u001b[49m\u001b[47m \u001b[30m\u001b[49m\u001b[47m \u001b[30m\u001b[49m\u001b[47m \u001b[30m\u001b[49m\u001b[47m \u001b[30m\u001b[49m\u001b[47m \u001b[30m\u001b[49m\u001b[47m \u001b[30m\u001b[49m\u001b[47m \u001b[30m\u001b[49m\u001b[47m \u001b[30m\u001b[49m\u001b[47m \u001b[30m\u001b[49m\u001b[47m \u001b[30m\u001b[49m\u001b[47m \u001b[30m\u001b[49m\u001b[47m \u001b[30m\u001b[49m\u001b[47m \u001b[30m\u001b[49m\u001b[47m \u001b[30m\u001b[49m\u001b[47m \u001b[30m\u001b[49m\u001b[47m \u001b[30m\u001b[49m\u001b[47m \u001b[30m\u001b[49m\u001b[47m \u001b[30m\u001b[49m\u001b[47m \u001b[30m\u001b[49m\u001b[47m \u001b[30m\u001b[49m\u001b[47m \u001b[30m\u001b[49m\u001b[47m \u001b[30m\u001b[49m\u001b[47m \u001b[30m\u001b[49m\u001b[47m \u001b[30m\u001b[49m\u001b[47m \u001b[30m\u001b[49m\u001b[47m \u001b[30m\u001b[49m\u001b[47m \u001b[30m\u001b[49m\u001b[47m \u001b[30m\u001b[49m\u001b[47m \u001b[30m\u001b[49m\u001b[47m \u001b[30m\u001b[49m\n",
            "Subread 12\t \u001b[47m \u001b[30m\u001b[49m\u001b[47m \u001b[30m\u001b[49m\u001b[47m \u001b[30m\u001b[49m\u001b[47m \u001b[30m\u001b[49m\u001b[47m \u001b[30m\u001b[49m\u001b[47m \u001b[30m\u001b[49m\u001b[47m \u001b[30m\u001b[49m\u001b[47m \u001b[30m\u001b[49m\u001b[47m \u001b[30m\u001b[49m\u001b[47m \u001b[30m\u001b[49m\u001b[47m \u001b[30m\u001b[49m\u001b[47m \u001b[30m\u001b[49m\u001b[47m \u001b[30m\u001b[49m\u001b[47m \u001b[30m\u001b[49m\u001b[47m \u001b[30m\u001b[49m\u001b[47m \u001b[30m\u001b[49m\u001b[47m \u001b[30m\u001b[49m\u001b[47m \u001b[30m\u001b[49m\u001b[47m \u001b[30m\u001b[49m\u001b[47m \u001b[30m\u001b[49m\u001b[47m \u001b[30m\u001b[49m\u001b[47m \u001b[30m\u001b[49m\u001b[47m \u001b[30m\u001b[49m\u001b[47m \u001b[30m\u001b[49m\u001b[47m \u001b[30m\u001b[49m\u001b[47m \u001b[30m\u001b[49m\u001b[47m \u001b[30m\u001b[49m\u001b[47m \u001b[30m\u001b[49m\u001b[47m \u001b[30m\u001b[49m\u001b[47m \u001b[30m\u001b[49m\u001b[47m \u001b[30m\u001b[49m\u001b[47m \u001b[30m\u001b[49m\u001b[47m \u001b[30m\u001b[49m\u001b[47m \u001b[30m\u001b[49m\u001b[47m \u001b[30m\u001b[49m\u001b[47m \u001b[30m\u001b[49m\u001b[47m \u001b[30m\u001b[49m\u001b[47m \u001b[30m\u001b[49m\u001b[47m \u001b[30m\u001b[49m\u001b[47m \u001b[30m\u001b[49m\u001b[47m \u001b[30m\u001b[49m\u001b[47m \u001b[30m\u001b[49m\u001b[47m \u001b[30m\u001b[49m\u001b[47m \u001b[30m\u001b[49m\u001b[47m \u001b[30m\u001b[49m\u001b[47m \u001b[30m\u001b[49m\u001b[47m \u001b[30m\u001b[49m\u001b[47m \u001b[30m\u001b[49m\u001b[47m \u001b[30m\u001b[49m\u001b[47m \u001b[30m\u001b[49m\u001b[47m \u001b[30m\u001b[49m\u001b[47m \u001b[30m\u001b[49m\u001b[47m \u001b[30m\u001b[49m\u001b[47m \u001b[30m\u001b[49m\u001b[47m \u001b[30m\u001b[49m\u001b[47m \u001b[30m\u001b[49m\u001b[47m \u001b[30m\u001b[49m\u001b[47m \u001b[30m\u001b[49m\u001b[47m \u001b[30m\u001b[49m\u001b[47m \u001b[30m\u001b[49m\u001b[47m \u001b[30m\u001b[49m\u001b[47m \u001b[30m\u001b[49m\u001b[47m \u001b[30m\u001b[49m\u001b[47m \u001b[30m\u001b[49m\u001b[47m \u001b[30m\u001b[49m\u001b[47m \u001b[30m\u001b[49m\u001b[47m \u001b[30m\u001b[49m\u001b[47m \u001b[30m\u001b[49m\u001b[47m \u001b[30m\u001b[49m\u001b[47m \u001b[30m\u001b[49m\u001b[47m \u001b[30m\u001b[49m\u001b[47m \u001b[30m\u001b[49m\u001b[47m \u001b[30m\u001b[49m\u001b[47m \u001b[30m\u001b[49m\u001b[47m \u001b[30m\u001b[49m\u001b[47m \u001b[30m\u001b[49m\u001b[47m \u001b[30m\u001b[49m\u001b[47m \u001b[30m\u001b[49m\u001b[47m \u001b[30m\u001b[49m\u001b[47m \u001b[30m\u001b[49m\u001b[47m \u001b[30m\u001b[49m\u001b[47m \u001b[30m\u001b[49m\u001b[47m \u001b[30m\u001b[49m\u001b[47m \u001b[30m\u001b[49m\u001b[47m \u001b[30m\u001b[49m\u001b[47m \u001b[30m\u001b[49m\u001b[47m \u001b[30m\u001b[49m\u001b[47m \u001b[30m\u001b[49m\u001b[47m \u001b[30m\u001b[49m\u001b[47m \u001b[30m\u001b[49m\u001b[47m \u001b[30m\u001b[49m\u001b[47m \u001b[30m\u001b[49m\u001b[47m \u001b[30m\u001b[49m\u001b[47m \u001b[30m\u001b[49m\u001b[47m \u001b[30m\u001b[49m\u001b[47m \u001b[30m\u001b[49m\u001b[47m \u001b[30m\u001b[49m\u001b[47m \u001b[30m\u001b[49m\u001b[47m \u001b[30m\u001b[49m\u001b[47m \u001b[30m\u001b[49m\n",
            "Subread 13\t \u001b[47m \u001b[30m\u001b[49m\u001b[47m \u001b[30m\u001b[49m\u001b[47m \u001b[30m\u001b[49m\u001b[47m \u001b[30m\u001b[49m\u001b[47m \u001b[30m\u001b[49m\u001b[47m \u001b[30m\u001b[49m\u001b[47m \u001b[30m\u001b[49m\u001b[47m \u001b[30m\u001b[49m\u001b[47m \u001b[30m\u001b[49m\u001b[47m \u001b[30m\u001b[49m\u001b[47m \u001b[30m\u001b[49m\u001b[47m \u001b[30m\u001b[49m\u001b[47m \u001b[30m\u001b[49m\u001b[47m \u001b[30m\u001b[49m\u001b[47m \u001b[30m\u001b[49m\u001b[47m \u001b[30m\u001b[49m\u001b[47m \u001b[30m\u001b[49m\u001b[47m \u001b[30m\u001b[49m\u001b[47m \u001b[30m\u001b[49m\u001b[47m \u001b[30m\u001b[49m\u001b[47m \u001b[30m\u001b[49m\u001b[47m \u001b[30m\u001b[49m\u001b[47m \u001b[30m\u001b[49m\u001b[47m \u001b[30m\u001b[49m\u001b[47m \u001b[30m\u001b[49m\u001b[47m \u001b[30m\u001b[49m\u001b[47m \u001b[30m\u001b[49m\u001b[47m \u001b[30m\u001b[49m\u001b[47m \u001b[30m\u001b[49m\u001b[47m \u001b[30m\u001b[49m\u001b[47m \u001b[30m\u001b[49m\u001b[47m \u001b[30m\u001b[49m\u001b[47m \u001b[30m\u001b[49m\u001b[47m \u001b[30m\u001b[49m\u001b[47m \u001b[30m\u001b[49m\u001b[47m \u001b[30m\u001b[49m\u001b[47m \u001b[30m\u001b[49m\u001b[47m \u001b[30m\u001b[49m\u001b[47m \u001b[30m\u001b[49m\u001b[47m \u001b[30m\u001b[49m\u001b[47m \u001b[30m\u001b[49m\u001b[47m \u001b[30m\u001b[49m\u001b[47m \u001b[30m\u001b[49m\u001b[47m \u001b[30m\u001b[49m\u001b[47m \u001b[30m\u001b[49m\u001b[47m \u001b[30m\u001b[49m\u001b[47m \u001b[30m\u001b[49m\u001b[47m \u001b[30m\u001b[49m\u001b[47m \u001b[30m\u001b[49m\u001b[47m \u001b[30m\u001b[49m\u001b[47m \u001b[30m\u001b[49m\u001b[47m \u001b[30m\u001b[49m\u001b[47m \u001b[30m\u001b[49m\u001b[47m \u001b[30m\u001b[49m\u001b[47m \u001b[30m\u001b[49m\u001b[47m \u001b[30m\u001b[49m\u001b[47m \u001b[30m\u001b[49m\u001b[47m \u001b[30m\u001b[49m\u001b[47m \u001b[30m\u001b[49m\u001b[47m \u001b[30m\u001b[49m\u001b[47m \u001b[30m\u001b[49m\u001b[47m \u001b[30m\u001b[49m\u001b[47m \u001b[30m\u001b[49m\u001b[47m \u001b[30m\u001b[49m\u001b[47m \u001b[30m\u001b[49m\u001b[47m \u001b[30m\u001b[49m\u001b[47m \u001b[30m\u001b[49m\u001b[47m \u001b[30m\u001b[49m\u001b[47m \u001b[30m\u001b[49m\u001b[47m \u001b[30m\u001b[49m\u001b[47m \u001b[30m\u001b[49m\u001b[47m \u001b[30m\u001b[49m\u001b[47m \u001b[30m\u001b[49m\u001b[47m \u001b[30m\u001b[49m\u001b[47m \u001b[30m\u001b[49m\u001b[47m \u001b[30m\u001b[49m\u001b[47m \u001b[30m\u001b[49m\u001b[47m \u001b[30m\u001b[49m\u001b[47m \u001b[30m\u001b[49m\u001b[47m \u001b[30m\u001b[49m\u001b[47m \u001b[30m\u001b[49m\u001b[47m \u001b[30m\u001b[49m\u001b[47m \u001b[30m\u001b[49m\u001b[47m \u001b[30m\u001b[49m\u001b[47m \u001b[30m\u001b[49m\u001b[47m \u001b[30m\u001b[49m\u001b[47m \u001b[30m\u001b[49m\u001b[47m \u001b[30m\u001b[49m\u001b[47m \u001b[30m\u001b[49m\u001b[47m \u001b[30m\u001b[49m\u001b[47m \u001b[30m\u001b[49m\u001b[47m \u001b[30m\u001b[49m\u001b[47m \u001b[30m\u001b[49m\u001b[47m \u001b[30m\u001b[49m\u001b[47m \u001b[30m\u001b[49m\u001b[47m \u001b[30m\u001b[49m\u001b[47m \u001b[30m\u001b[49m\u001b[47m \u001b[30m\u001b[49m\u001b[47m \u001b[30m\u001b[49m\u001b[47m \u001b[30m\u001b[49m\n",
            "Subread 14\t \u001b[47m \u001b[30m\u001b[49m\u001b[47m \u001b[30m\u001b[49m\u001b[47m \u001b[30m\u001b[49m\u001b[47m \u001b[30m\u001b[49m\u001b[47m \u001b[30m\u001b[49m\u001b[47m \u001b[30m\u001b[49m\u001b[47m \u001b[30m\u001b[49m\u001b[47m \u001b[30m\u001b[49m\u001b[47m \u001b[30m\u001b[49m\u001b[47m \u001b[30m\u001b[49m\u001b[47m \u001b[30m\u001b[49m\u001b[47m \u001b[30m\u001b[49m\u001b[47m \u001b[30m\u001b[49m\u001b[47m \u001b[30m\u001b[49m\u001b[47m \u001b[30m\u001b[49m\u001b[47m \u001b[30m\u001b[49m\u001b[47m \u001b[30m\u001b[49m\u001b[47m \u001b[30m\u001b[49m\u001b[47m \u001b[30m\u001b[49m\u001b[47m \u001b[30m\u001b[49m\u001b[47m \u001b[30m\u001b[49m\u001b[47m \u001b[30m\u001b[49m\u001b[47m \u001b[30m\u001b[49m\u001b[47m \u001b[30m\u001b[49m\u001b[47m \u001b[30m\u001b[49m\u001b[47m \u001b[30m\u001b[49m\u001b[47m \u001b[30m\u001b[49m\u001b[47m \u001b[30m\u001b[49m\u001b[47m \u001b[30m\u001b[49m\u001b[47m \u001b[30m\u001b[49m\u001b[47m \u001b[30m\u001b[49m\u001b[47m \u001b[30m\u001b[49m\u001b[47m \u001b[30m\u001b[49m\u001b[47m \u001b[30m\u001b[49m\u001b[47m \u001b[30m\u001b[49m\u001b[47m \u001b[30m\u001b[49m\u001b[47m \u001b[30m\u001b[49m\u001b[47m \u001b[30m\u001b[49m\u001b[47m \u001b[30m\u001b[49m\u001b[47m \u001b[30m\u001b[49m\u001b[47m \u001b[30m\u001b[49m\u001b[47m \u001b[30m\u001b[49m\u001b[47m \u001b[30m\u001b[49m\u001b[47m \u001b[30m\u001b[49m\u001b[47m \u001b[30m\u001b[49m\u001b[47m \u001b[30m\u001b[49m\u001b[47m \u001b[30m\u001b[49m\u001b[47m \u001b[30m\u001b[49m\u001b[47m \u001b[30m\u001b[49m\u001b[47m \u001b[30m\u001b[49m\u001b[47m \u001b[30m\u001b[49m\u001b[47m \u001b[30m\u001b[49m\u001b[47m \u001b[30m\u001b[49m\u001b[47m \u001b[30m\u001b[49m\u001b[47m \u001b[30m\u001b[49m\u001b[47m \u001b[30m\u001b[49m\u001b[47m \u001b[30m\u001b[49m\u001b[47m \u001b[30m\u001b[49m\u001b[47m \u001b[30m\u001b[49m\u001b[47m \u001b[30m\u001b[49m\u001b[47m \u001b[30m\u001b[49m\u001b[47m \u001b[30m\u001b[49m\u001b[47m \u001b[30m\u001b[49m\u001b[47m \u001b[30m\u001b[49m\u001b[47m \u001b[30m\u001b[49m\u001b[47m \u001b[30m\u001b[49m\u001b[47m \u001b[30m\u001b[49m\u001b[47m \u001b[30m\u001b[49m\u001b[47m \u001b[30m\u001b[49m\u001b[47m \u001b[30m\u001b[49m\u001b[47m \u001b[30m\u001b[49m\u001b[47m \u001b[30m\u001b[49m\u001b[47m \u001b[30m\u001b[49m\u001b[47m \u001b[30m\u001b[49m\u001b[47m \u001b[30m\u001b[49m\u001b[47m \u001b[30m\u001b[49m\u001b[47m \u001b[30m\u001b[49m\u001b[47m \u001b[30m\u001b[49m\u001b[47m \u001b[30m\u001b[49m\u001b[47m \u001b[30m\u001b[49m\u001b[47m \u001b[30m\u001b[49m\u001b[47m \u001b[30m\u001b[49m\u001b[47m \u001b[30m\u001b[49m\u001b[47m \u001b[30m\u001b[49m\u001b[47m \u001b[30m\u001b[49m\u001b[47m \u001b[30m\u001b[49m\u001b[47m \u001b[30m\u001b[49m\u001b[47m \u001b[30m\u001b[49m\u001b[47m \u001b[30m\u001b[49m\u001b[47m \u001b[30m\u001b[49m\u001b[47m \u001b[30m\u001b[49m\u001b[47m \u001b[30m\u001b[49m\u001b[47m \u001b[30m\u001b[49m\u001b[47m \u001b[30m\u001b[49m\u001b[47m \u001b[30m\u001b[49m\u001b[47m \u001b[30m\u001b[49m\u001b[47m \u001b[30m\u001b[49m\u001b[47m \u001b[30m\u001b[49m\u001b[47m \u001b[30m\u001b[49m\u001b[47m \u001b[30m\u001b[49m\n",
            "Subread 15\t \u001b[47m \u001b[30m\u001b[49m\u001b[47m \u001b[30m\u001b[49m\u001b[47m \u001b[30m\u001b[49m\u001b[47m \u001b[30m\u001b[49m\u001b[47m \u001b[30m\u001b[49m\u001b[47m \u001b[30m\u001b[49m\u001b[47m \u001b[30m\u001b[49m\u001b[47m \u001b[30m\u001b[49m\u001b[47m \u001b[30m\u001b[49m\u001b[47m \u001b[30m\u001b[49m\u001b[47m \u001b[30m\u001b[49m\u001b[47m \u001b[30m\u001b[49m\u001b[47m \u001b[30m\u001b[49m\u001b[47m \u001b[30m\u001b[49m\u001b[47m \u001b[30m\u001b[49m\u001b[47m \u001b[30m\u001b[49m\u001b[47m \u001b[30m\u001b[49m\u001b[47m \u001b[30m\u001b[49m\u001b[47m \u001b[30m\u001b[49m\u001b[47m \u001b[30m\u001b[49m\u001b[47m \u001b[30m\u001b[49m\u001b[47m \u001b[30m\u001b[49m\u001b[47m \u001b[30m\u001b[49m\u001b[47m \u001b[30m\u001b[49m\u001b[47m \u001b[30m\u001b[49m\u001b[47m \u001b[30m\u001b[49m\u001b[47m \u001b[30m\u001b[49m\u001b[47m \u001b[30m\u001b[49m\u001b[47m \u001b[30m\u001b[49m\u001b[47m \u001b[30m\u001b[49m\u001b[47m \u001b[30m\u001b[49m\u001b[47m \u001b[30m\u001b[49m\u001b[47m \u001b[30m\u001b[49m\u001b[47m \u001b[30m\u001b[49m\u001b[47m \u001b[30m\u001b[49m\u001b[47m \u001b[30m\u001b[49m\u001b[47m \u001b[30m\u001b[49m\u001b[47m \u001b[30m\u001b[49m\u001b[47m \u001b[30m\u001b[49m\u001b[47m \u001b[30m\u001b[49m\u001b[47m \u001b[30m\u001b[49m\u001b[47m \u001b[30m\u001b[49m\u001b[47m \u001b[30m\u001b[49m\u001b[47m \u001b[30m\u001b[49m\u001b[47m \u001b[30m\u001b[49m\u001b[47m \u001b[30m\u001b[49m\u001b[47m \u001b[30m\u001b[49m\u001b[47m \u001b[30m\u001b[49m\u001b[47m \u001b[30m\u001b[49m\u001b[47m \u001b[30m\u001b[49m\u001b[47m \u001b[30m\u001b[49m\u001b[47m \u001b[30m\u001b[49m\u001b[47m \u001b[30m\u001b[49m\u001b[47m \u001b[30m\u001b[49m\u001b[47m \u001b[30m\u001b[49m\u001b[47m \u001b[30m\u001b[49m\u001b[47m \u001b[30m\u001b[49m\u001b[47m \u001b[30m\u001b[49m\u001b[47m \u001b[30m\u001b[49m\u001b[47m \u001b[30m\u001b[49m\u001b[47m \u001b[30m\u001b[49m\u001b[47m \u001b[30m\u001b[49m\u001b[47m \u001b[30m\u001b[49m\u001b[47m \u001b[30m\u001b[49m\u001b[47m \u001b[30m\u001b[49m\u001b[47m \u001b[30m\u001b[49m\u001b[47m \u001b[30m\u001b[49m\u001b[47m \u001b[30m\u001b[49m\u001b[47m \u001b[30m\u001b[49m\u001b[47m \u001b[30m\u001b[49m\u001b[47m \u001b[30m\u001b[49m\u001b[47m \u001b[30m\u001b[49m\u001b[47m \u001b[30m\u001b[49m\u001b[47m \u001b[30m\u001b[49m\u001b[47m \u001b[30m\u001b[49m\u001b[47m \u001b[30m\u001b[49m\u001b[47m \u001b[30m\u001b[49m\u001b[47m \u001b[30m\u001b[49m\u001b[47m \u001b[30m\u001b[49m\u001b[47m \u001b[30m\u001b[49m\u001b[47m \u001b[30m\u001b[49m\u001b[47m \u001b[30m\u001b[49m\u001b[47m \u001b[30m\u001b[49m\u001b[47m \u001b[30m\u001b[49m\u001b[47m \u001b[30m\u001b[49m\u001b[47m \u001b[30m\u001b[49m\u001b[47m \u001b[30m\u001b[49m\u001b[47m \u001b[30m\u001b[49m\u001b[47m \u001b[30m\u001b[49m\u001b[47m \u001b[30m\u001b[49m\u001b[47m \u001b[30m\u001b[49m\u001b[47m \u001b[30m\u001b[49m\u001b[47m \u001b[30m\u001b[49m\u001b[47m \u001b[30m\u001b[49m\u001b[47m \u001b[30m\u001b[49m\u001b[47m \u001b[30m\u001b[49m\u001b[47m \u001b[30m\u001b[49m\u001b[47m \u001b[30m\u001b[49m\u001b[47m \u001b[30m\u001b[49m\u001b[47m \u001b[30m\u001b[49m\n",
            "Subread 16\t \u001b[47m \u001b[30m\u001b[49m\u001b[47m \u001b[30m\u001b[49m\u001b[47m \u001b[30m\u001b[49m\u001b[47m \u001b[30m\u001b[49m\u001b[47m \u001b[30m\u001b[49m\u001b[47m \u001b[30m\u001b[49m\u001b[47m \u001b[30m\u001b[49m\u001b[47m \u001b[30m\u001b[49m\u001b[47m \u001b[30m\u001b[49m\u001b[47m \u001b[30m\u001b[49m\u001b[47m \u001b[30m\u001b[49m\u001b[47m \u001b[30m\u001b[49m\u001b[47m \u001b[30m\u001b[49m\u001b[47m \u001b[30m\u001b[49m\u001b[47m \u001b[30m\u001b[49m\u001b[47m \u001b[30m\u001b[49m\u001b[47m \u001b[30m\u001b[49m\u001b[47m \u001b[30m\u001b[49m\u001b[47m \u001b[30m\u001b[49m\u001b[47m \u001b[30m\u001b[49m\u001b[47m \u001b[30m\u001b[49m\u001b[47m \u001b[30m\u001b[49m\u001b[47m \u001b[30m\u001b[49m\u001b[47m \u001b[30m\u001b[49m\u001b[47m \u001b[30m\u001b[49m\u001b[47m \u001b[30m\u001b[49m\u001b[47m \u001b[30m\u001b[49m\u001b[47m \u001b[30m\u001b[49m\u001b[47m \u001b[30m\u001b[49m\u001b[47m \u001b[30m\u001b[49m\u001b[47m \u001b[30m\u001b[49m\u001b[47m \u001b[30m\u001b[49m\u001b[47m \u001b[30m\u001b[49m\u001b[47m \u001b[30m\u001b[49m\u001b[47m \u001b[30m\u001b[49m\u001b[47m \u001b[30m\u001b[49m\u001b[47m \u001b[30m\u001b[49m\u001b[47m \u001b[30m\u001b[49m\u001b[47m \u001b[30m\u001b[49m\u001b[47m \u001b[30m\u001b[49m\u001b[47m \u001b[30m\u001b[49m\u001b[47m \u001b[30m\u001b[49m\u001b[47m \u001b[30m\u001b[49m\u001b[47m \u001b[30m\u001b[49m\u001b[47m \u001b[30m\u001b[49m\u001b[47m \u001b[30m\u001b[49m\u001b[47m \u001b[30m\u001b[49m\u001b[47m \u001b[30m\u001b[49m\u001b[47m \u001b[30m\u001b[49m\u001b[47m \u001b[30m\u001b[49m\u001b[47m \u001b[30m\u001b[49m\u001b[47m \u001b[30m\u001b[49m\u001b[47m \u001b[30m\u001b[49m\u001b[47m \u001b[30m\u001b[49m\u001b[47m \u001b[30m\u001b[49m\u001b[47m \u001b[30m\u001b[49m\u001b[47m \u001b[30m\u001b[49m\u001b[47m \u001b[30m\u001b[49m\u001b[47m \u001b[30m\u001b[49m\u001b[47m \u001b[30m\u001b[49m\u001b[47m \u001b[30m\u001b[49m\u001b[47m \u001b[30m\u001b[49m\u001b[47m \u001b[30m\u001b[49m\u001b[47m \u001b[30m\u001b[49m\u001b[47m \u001b[30m\u001b[49m\u001b[47m \u001b[30m\u001b[49m\u001b[47m \u001b[30m\u001b[49m\u001b[47m \u001b[30m\u001b[49m\u001b[47m \u001b[30m\u001b[49m\u001b[47m \u001b[30m\u001b[49m\u001b[47m \u001b[30m\u001b[49m\u001b[47m \u001b[30m\u001b[49m\u001b[47m \u001b[30m\u001b[49m\u001b[47m \u001b[30m\u001b[49m\u001b[47m \u001b[30m\u001b[49m\u001b[47m \u001b[30m\u001b[49m\u001b[47m \u001b[30m\u001b[49m\u001b[47m \u001b[30m\u001b[49m\u001b[47m \u001b[30m\u001b[49m\u001b[47m \u001b[30m\u001b[49m\u001b[47m \u001b[30m\u001b[49m\u001b[47m \u001b[30m\u001b[49m\u001b[47m \u001b[30m\u001b[49m\u001b[47m \u001b[30m\u001b[49m\u001b[47m \u001b[30m\u001b[49m\u001b[47m \u001b[30m\u001b[49m\u001b[47m \u001b[30m\u001b[49m\u001b[47m \u001b[30m\u001b[49m\u001b[47m \u001b[30m\u001b[49m\u001b[47m \u001b[30m\u001b[49m\u001b[47m \u001b[30m\u001b[49m\u001b[47m \u001b[30m\u001b[49m\u001b[47m \u001b[30m\u001b[49m\u001b[47m \u001b[30m\u001b[49m\u001b[47m \u001b[30m\u001b[49m\u001b[47m \u001b[30m\u001b[49m\u001b[47m \u001b[30m\u001b[49m\u001b[47m \u001b[30m\u001b[49m\u001b[47m \u001b[30m\u001b[49m\u001b[47m \u001b[30m\u001b[49m\n",
            "Subread 17\t \u001b[47m \u001b[30m\u001b[49m\u001b[47m \u001b[30m\u001b[49m\u001b[47m \u001b[30m\u001b[49m\u001b[47m \u001b[30m\u001b[49m\u001b[47m \u001b[30m\u001b[49m\u001b[47m \u001b[30m\u001b[49m\u001b[47m \u001b[30m\u001b[49m\u001b[47m \u001b[30m\u001b[49m\u001b[47m \u001b[30m\u001b[49m\u001b[47m \u001b[30m\u001b[49m\u001b[47m \u001b[30m\u001b[49m\u001b[47m \u001b[30m\u001b[49m\u001b[47m \u001b[30m\u001b[49m\u001b[47m \u001b[30m\u001b[49m\u001b[47m \u001b[30m\u001b[49m\u001b[47m \u001b[30m\u001b[49m\u001b[47m \u001b[30m\u001b[49m\u001b[47m \u001b[30m\u001b[49m\u001b[47m \u001b[30m\u001b[49m\u001b[47m \u001b[30m\u001b[49m\u001b[47m \u001b[30m\u001b[49m\u001b[47m \u001b[30m\u001b[49m\u001b[47m \u001b[30m\u001b[49m\u001b[47m \u001b[30m\u001b[49m\u001b[47m \u001b[30m\u001b[49m\u001b[47m \u001b[30m\u001b[49m\u001b[47m \u001b[30m\u001b[49m\u001b[47m \u001b[30m\u001b[49m\u001b[47m \u001b[30m\u001b[49m\u001b[47m \u001b[30m\u001b[49m\u001b[47m \u001b[30m\u001b[49m\u001b[47m \u001b[30m\u001b[49m\u001b[47m \u001b[30m\u001b[49m\u001b[47m \u001b[30m\u001b[49m\u001b[47m \u001b[30m\u001b[49m\u001b[47m \u001b[30m\u001b[49m\u001b[47m \u001b[30m\u001b[49m\u001b[47m \u001b[30m\u001b[49m\u001b[47m \u001b[30m\u001b[49m\u001b[47m \u001b[30m\u001b[49m\u001b[47m \u001b[30m\u001b[49m\u001b[47m \u001b[30m\u001b[49m\u001b[47m \u001b[30m\u001b[49m\u001b[47m \u001b[30m\u001b[49m\u001b[47m \u001b[30m\u001b[49m\u001b[47m \u001b[30m\u001b[49m\u001b[47m \u001b[30m\u001b[49m\u001b[47m \u001b[30m\u001b[49m\u001b[47m \u001b[30m\u001b[49m\u001b[47m \u001b[30m\u001b[49m\u001b[47m \u001b[30m\u001b[49m\u001b[47m \u001b[30m\u001b[49m\u001b[47m \u001b[30m\u001b[49m\u001b[47m \u001b[30m\u001b[49m\u001b[47m \u001b[30m\u001b[49m\u001b[47m \u001b[30m\u001b[49m\u001b[47m \u001b[30m\u001b[49m\u001b[47m \u001b[30m\u001b[49m\u001b[47m \u001b[30m\u001b[49m\u001b[47m \u001b[30m\u001b[49m\u001b[47m \u001b[30m\u001b[49m\u001b[47m \u001b[30m\u001b[49m\u001b[47m \u001b[30m\u001b[49m\u001b[47m \u001b[30m\u001b[49m\u001b[47m \u001b[30m\u001b[49m\u001b[47m \u001b[30m\u001b[49m\u001b[47m \u001b[30m\u001b[49m\u001b[47m \u001b[30m\u001b[49m\u001b[47m \u001b[30m\u001b[49m\u001b[47m \u001b[30m\u001b[49m\u001b[47m \u001b[30m\u001b[49m\u001b[47m \u001b[30m\u001b[49m\u001b[47m \u001b[30m\u001b[49m\u001b[47m \u001b[30m\u001b[49m\u001b[47m \u001b[30m\u001b[49m\u001b[47m \u001b[30m\u001b[49m\u001b[47m \u001b[30m\u001b[49m\u001b[47m \u001b[30m\u001b[49m\u001b[47m \u001b[30m\u001b[49m\u001b[47m \u001b[30m\u001b[49m\u001b[47m \u001b[30m\u001b[49m\u001b[47m \u001b[30m\u001b[49m\u001b[47m \u001b[30m\u001b[49m\u001b[47m \u001b[30m\u001b[49m\u001b[47m \u001b[30m\u001b[49m\u001b[47m \u001b[30m\u001b[49m\u001b[47m \u001b[30m\u001b[49m\u001b[47m \u001b[30m\u001b[49m\u001b[47m \u001b[30m\u001b[49m\u001b[47m \u001b[30m\u001b[49m\u001b[47m \u001b[30m\u001b[49m\u001b[47m \u001b[30m\u001b[49m\u001b[47m \u001b[30m\u001b[49m\u001b[47m \u001b[30m\u001b[49m\u001b[47m \u001b[30m\u001b[49m\u001b[47m \u001b[30m\u001b[49m\u001b[47m \u001b[30m\u001b[49m\u001b[47m \u001b[30m\u001b[49m\u001b[47m \u001b[30m\u001b[49m\u001b[47m \u001b[30m\u001b[49m\n",
            "Subread 18\t \u001b[47m \u001b[30m\u001b[49m\u001b[47m \u001b[30m\u001b[49m\u001b[47m \u001b[30m\u001b[49m\u001b[47m \u001b[30m\u001b[49m\u001b[47m \u001b[30m\u001b[49m\u001b[47m \u001b[30m\u001b[49m\u001b[47m \u001b[30m\u001b[49m\u001b[47m \u001b[30m\u001b[49m\u001b[47m \u001b[30m\u001b[49m\u001b[47m \u001b[30m\u001b[49m\u001b[47m \u001b[30m\u001b[49m\u001b[47m \u001b[30m\u001b[49m\u001b[47m \u001b[30m\u001b[49m\u001b[47m \u001b[30m\u001b[49m\u001b[47m \u001b[30m\u001b[49m\u001b[47m \u001b[30m\u001b[49m\u001b[47m \u001b[30m\u001b[49m\u001b[47m \u001b[30m\u001b[49m\u001b[47m \u001b[30m\u001b[49m\u001b[47m \u001b[30m\u001b[49m\u001b[47m \u001b[30m\u001b[49m\u001b[47m \u001b[30m\u001b[49m\u001b[47m \u001b[30m\u001b[49m\u001b[47m \u001b[30m\u001b[49m\u001b[47m \u001b[30m\u001b[49m\u001b[47m \u001b[30m\u001b[49m\u001b[47m \u001b[30m\u001b[49m\u001b[47m \u001b[30m\u001b[49m\u001b[47m \u001b[30m\u001b[49m\u001b[47m \u001b[30m\u001b[49m\u001b[47m \u001b[30m\u001b[49m\u001b[47m \u001b[30m\u001b[49m\u001b[47m \u001b[30m\u001b[49m\u001b[47m \u001b[30m\u001b[49m\u001b[47m \u001b[30m\u001b[49m\u001b[47m \u001b[30m\u001b[49m\u001b[47m \u001b[30m\u001b[49m\u001b[47m \u001b[30m\u001b[49m\u001b[47m \u001b[30m\u001b[49m\u001b[47m \u001b[30m\u001b[49m\u001b[47m \u001b[30m\u001b[49m\u001b[47m \u001b[30m\u001b[49m\u001b[47m \u001b[30m\u001b[49m\u001b[47m \u001b[30m\u001b[49m\u001b[47m \u001b[30m\u001b[49m\u001b[47m \u001b[30m\u001b[49m\u001b[47m \u001b[30m\u001b[49m\u001b[47m \u001b[30m\u001b[49m\u001b[47m \u001b[30m\u001b[49m\u001b[47m \u001b[30m\u001b[49m\u001b[47m \u001b[30m\u001b[49m\u001b[47m \u001b[30m\u001b[49m\u001b[47m \u001b[30m\u001b[49m\u001b[47m \u001b[30m\u001b[49m\u001b[47m \u001b[30m\u001b[49m\u001b[47m \u001b[30m\u001b[49m\u001b[47m \u001b[30m\u001b[49m\u001b[47m \u001b[30m\u001b[49m\u001b[47m \u001b[30m\u001b[49m\u001b[47m \u001b[30m\u001b[49m\u001b[47m \u001b[30m\u001b[49m\u001b[47m \u001b[30m\u001b[49m\u001b[47m \u001b[30m\u001b[49m\u001b[47m \u001b[30m\u001b[49m\u001b[47m \u001b[30m\u001b[49m\u001b[47m \u001b[30m\u001b[49m\u001b[47m \u001b[30m\u001b[49m\u001b[47m \u001b[30m\u001b[49m\u001b[47m \u001b[30m\u001b[49m\u001b[47m \u001b[30m\u001b[49m\u001b[47m \u001b[30m\u001b[49m\u001b[47m \u001b[30m\u001b[49m\u001b[47m \u001b[30m\u001b[49m\u001b[47m \u001b[30m\u001b[49m\u001b[47m \u001b[30m\u001b[49m\u001b[47m \u001b[30m\u001b[49m\u001b[47m \u001b[30m\u001b[49m\u001b[47m \u001b[30m\u001b[49m\u001b[47m \u001b[30m\u001b[49m\u001b[47m \u001b[30m\u001b[49m\u001b[47m \u001b[30m\u001b[49m\u001b[47m \u001b[30m\u001b[49m\u001b[47m \u001b[30m\u001b[49m\u001b[47m \u001b[30m\u001b[49m\u001b[47m \u001b[30m\u001b[49m\u001b[47m \u001b[30m\u001b[49m\u001b[47m \u001b[30m\u001b[49m\u001b[47m \u001b[30m\u001b[49m\u001b[47m \u001b[30m\u001b[49m\u001b[47m \u001b[30m\u001b[49m\u001b[47m \u001b[30m\u001b[49m\u001b[47m \u001b[30m\u001b[49m\u001b[47m \u001b[30m\u001b[49m\u001b[47m \u001b[30m\u001b[49m\u001b[47m \u001b[30m\u001b[49m\u001b[47m \u001b[30m\u001b[49m\u001b[47m \u001b[30m\u001b[49m\u001b[47m \u001b[30m\u001b[49m\u001b[47m \u001b[30m\u001b[49m\u001b[47m \u001b[30m\u001b[49m\n",
            "Subread 19\t \u001b[47m \u001b[30m\u001b[49m\u001b[47m \u001b[30m\u001b[49m\u001b[47m \u001b[30m\u001b[49m\u001b[47m \u001b[30m\u001b[49m\u001b[47m \u001b[30m\u001b[49m\u001b[47m \u001b[30m\u001b[49m\u001b[47m \u001b[30m\u001b[49m\u001b[47m \u001b[30m\u001b[49m\u001b[47m \u001b[30m\u001b[49m\u001b[47m \u001b[30m\u001b[49m\u001b[47m \u001b[30m\u001b[49m\u001b[47m \u001b[30m\u001b[49m\u001b[47m \u001b[30m\u001b[49m\u001b[47m \u001b[30m\u001b[49m\u001b[47m \u001b[30m\u001b[49m\u001b[47m \u001b[30m\u001b[49m\u001b[47m \u001b[30m\u001b[49m\u001b[47m \u001b[30m\u001b[49m\u001b[47m \u001b[30m\u001b[49m\u001b[47m \u001b[30m\u001b[49m\u001b[47m \u001b[30m\u001b[49m\u001b[47m \u001b[30m\u001b[49m\u001b[47m \u001b[30m\u001b[49m\u001b[47m \u001b[30m\u001b[49m\u001b[47m \u001b[30m\u001b[49m\u001b[47m \u001b[30m\u001b[49m\u001b[47m \u001b[30m\u001b[49m\u001b[47m \u001b[30m\u001b[49m\u001b[47m \u001b[30m\u001b[49m\u001b[47m \u001b[30m\u001b[49m\u001b[47m \u001b[30m\u001b[49m\u001b[47m \u001b[30m\u001b[49m\u001b[47m \u001b[30m\u001b[49m\u001b[47m \u001b[30m\u001b[49m\u001b[47m \u001b[30m\u001b[49m\u001b[47m \u001b[30m\u001b[49m\u001b[47m \u001b[30m\u001b[49m\u001b[47m \u001b[30m\u001b[49m\u001b[47m \u001b[30m\u001b[49m\u001b[47m \u001b[30m\u001b[49m\u001b[47m \u001b[30m\u001b[49m\u001b[47m \u001b[30m\u001b[49m\u001b[47m \u001b[30m\u001b[49m\u001b[47m \u001b[30m\u001b[49m\u001b[47m \u001b[30m\u001b[49m\u001b[47m \u001b[30m\u001b[49m\u001b[47m \u001b[30m\u001b[49m\u001b[47m \u001b[30m\u001b[49m\u001b[47m \u001b[30m\u001b[49m\u001b[47m \u001b[30m\u001b[49m\u001b[47m \u001b[30m\u001b[49m\u001b[47m \u001b[30m\u001b[49m\u001b[47m \u001b[30m\u001b[49m\u001b[47m \u001b[30m\u001b[49m\u001b[47m \u001b[30m\u001b[49m\u001b[47m \u001b[30m\u001b[49m\u001b[47m \u001b[30m\u001b[49m\u001b[47m \u001b[30m\u001b[49m\u001b[47m \u001b[30m\u001b[49m\u001b[47m \u001b[30m\u001b[49m\u001b[47m \u001b[30m\u001b[49m\u001b[47m \u001b[30m\u001b[49m\u001b[47m \u001b[30m\u001b[49m\u001b[47m \u001b[30m\u001b[49m\u001b[47m \u001b[30m\u001b[49m\u001b[47m \u001b[30m\u001b[49m\u001b[47m \u001b[30m\u001b[49m\u001b[47m \u001b[30m\u001b[49m\u001b[47m \u001b[30m\u001b[49m\u001b[47m \u001b[30m\u001b[49m\u001b[47m \u001b[30m\u001b[49m\u001b[47m \u001b[30m\u001b[49m\u001b[47m \u001b[30m\u001b[49m\u001b[47m \u001b[30m\u001b[49m\u001b[47m \u001b[30m\u001b[49m\u001b[47m \u001b[30m\u001b[49m\u001b[47m \u001b[30m\u001b[49m\u001b[47m \u001b[30m\u001b[49m\u001b[47m \u001b[30m\u001b[49m\u001b[47m \u001b[30m\u001b[49m\u001b[47m \u001b[30m\u001b[49m\u001b[47m \u001b[30m\u001b[49m\u001b[47m \u001b[30m\u001b[49m\u001b[47m \u001b[30m\u001b[49m\u001b[47m \u001b[30m\u001b[49m\u001b[47m \u001b[30m\u001b[49m\u001b[47m \u001b[30m\u001b[49m\u001b[47m \u001b[30m\u001b[49m\u001b[47m \u001b[30m\u001b[49m\u001b[47m \u001b[30m\u001b[49m\u001b[47m \u001b[30m\u001b[49m\u001b[47m \u001b[30m\u001b[49m\u001b[47m \u001b[30m\u001b[49m\u001b[47m \u001b[30m\u001b[49m\u001b[47m \u001b[30m\u001b[49m\u001b[47m \u001b[30m\u001b[49m\u001b[47m \u001b[30m\u001b[49m\u001b[47m \u001b[30m\u001b[49m\u001b[47m \u001b[30m\u001b[49m\u001b[47m \u001b[30m\u001b[49m\n",
            "Subread 20\t \u001b[47m \u001b[30m\u001b[49m\u001b[47m \u001b[30m\u001b[49m\u001b[47m \u001b[30m\u001b[49m\u001b[47m \u001b[30m\u001b[49m\u001b[47m \u001b[30m\u001b[49m\u001b[47m \u001b[30m\u001b[49m\u001b[47m \u001b[30m\u001b[49m\u001b[47m \u001b[30m\u001b[49m\u001b[47m \u001b[30m\u001b[49m\u001b[47m \u001b[30m\u001b[49m\u001b[47m \u001b[30m\u001b[49m\u001b[47m \u001b[30m\u001b[49m\u001b[47m \u001b[30m\u001b[49m\u001b[47m \u001b[30m\u001b[49m\u001b[47m \u001b[30m\u001b[49m\u001b[47m \u001b[30m\u001b[49m\u001b[47m \u001b[30m\u001b[49m\u001b[47m \u001b[30m\u001b[49m\u001b[47m \u001b[30m\u001b[49m\u001b[47m \u001b[30m\u001b[49m\u001b[47m \u001b[30m\u001b[49m\u001b[47m \u001b[30m\u001b[49m\u001b[47m \u001b[30m\u001b[49m\u001b[47m \u001b[30m\u001b[49m\u001b[47m \u001b[30m\u001b[49m\u001b[47m \u001b[30m\u001b[49m\u001b[47m \u001b[30m\u001b[49m\u001b[47m \u001b[30m\u001b[49m\u001b[47m \u001b[30m\u001b[49m\u001b[47m \u001b[30m\u001b[49m\u001b[47m \u001b[30m\u001b[49m\u001b[47m \u001b[30m\u001b[49m\u001b[47m \u001b[30m\u001b[49m\u001b[47m \u001b[30m\u001b[49m\u001b[47m \u001b[30m\u001b[49m\u001b[47m \u001b[30m\u001b[49m\u001b[47m \u001b[30m\u001b[49m\u001b[47m \u001b[30m\u001b[49m\u001b[47m \u001b[30m\u001b[49m\u001b[47m \u001b[30m\u001b[49m\u001b[47m \u001b[30m\u001b[49m\u001b[47m \u001b[30m\u001b[49m\u001b[47m \u001b[30m\u001b[49m\u001b[47m \u001b[30m\u001b[49m\u001b[47m \u001b[30m\u001b[49m\u001b[47m \u001b[30m\u001b[49m\u001b[47m \u001b[30m\u001b[49m\u001b[47m \u001b[30m\u001b[49m\u001b[47m \u001b[30m\u001b[49m\u001b[47m \u001b[30m\u001b[49m\u001b[47m \u001b[30m\u001b[49m\u001b[47m \u001b[30m\u001b[49m\u001b[47m \u001b[30m\u001b[49m\u001b[47m \u001b[30m\u001b[49m\u001b[47m \u001b[30m\u001b[49m\u001b[47m \u001b[30m\u001b[49m\u001b[47m \u001b[30m\u001b[49m\u001b[47m \u001b[30m\u001b[49m\u001b[47m \u001b[30m\u001b[49m\u001b[47m \u001b[30m\u001b[49m\u001b[47m \u001b[30m\u001b[49m\u001b[47m \u001b[30m\u001b[49m\u001b[47m \u001b[30m\u001b[49m\u001b[47m \u001b[30m\u001b[49m\u001b[47m \u001b[30m\u001b[49m\u001b[47m \u001b[30m\u001b[49m\u001b[47m \u001b[30m\u001b[49m\u001b[47m \u001b[30m\u001b[49m\u001b[47m \u001b[30m\u001b[49m\u001b[47m \u001b[30m\u001b[49m\u001b[47m \u001b[30m\u001b[49m\u001b[47m \u001b[30m\u001b[49m\u001b[47m \u001b[30m\u001b[49m\u001b[47m \u001b[30m\u001b[49m\u001b[47m \u001b[30m\u001b[49m\u001b[47m \u001b[30m\u001b[49m\u001b[47m \u001b[30m\u001b[49m\u001b[47m \u001b[30m\u001b[49m\u001b[47m \u001b[30m\u001b[49m\u001b[47m \u001b[30m\u001b[49m\u001b[47m \u001b[30m\u001b[49m\u001b[47m \u001b[30m\u001b[49m\u001b[47m \u001b[30m\u001b[49m\u001b[47m \u001b[30m\u001b[49m\u001b[47m \u001b[30m\u001b[49m\u001b[47m \u001b[30m\u001b[49m\u001b[47m \u001b[30m\u001b[49m\u001b[47m \u001b[30m\u001b[49m\u001b[47m \u001b[30m\u001b[49m\u001b[47m \u001b[30m\u001b[49m\u001b[47m \u001b[30m\u001b[49m\u001b[47m \u001b[30m\u001b[49m\u001b[47m \u001b[30m\u001b[49m\u001b[47m \u001b[30m\u001b[49m\u001b[47m \u001b[30m\u001b[49m\u001b[47m \u001b[30m\u001b[49m\u001b[47m \u001b[30m\u001b[49m\u001b[47m \u001b[30m\u001b[49m\u001b[47m \u001b[30m\u001b[49m\u001b[47m \u001b[30m\u001b[49m\n",
            "ccs:\t\t \u001b[47m \u001b[30m\u001b[49m\u001b[31mT\u001b[30m\u001b[49m\u001b[33mG\u001b[30m\u001b[49m\u001b[32mA\u001b[30m\u001b[49m\u001b[34mC\u001b[30m\u001b[49m\u001b[32mA\u001b[30m\u001b[49m\u001b[33mG\u001b[30m\u001b[49m\u001b[32mA\u001b[30m\u001b[49m\u001b[34mC\u001b[30m\u001b[49m\u001b[34mC\u001b[30m\u001b[49m\u001b[31mT\u001b[30m\u001b[49m\u001b[33mG\u001b[30m\u001b[49m\u001b[32mA\u001b[30m\u001b[49m\u001b[33mG\u001b[30m\u001b[49m\u001b[33mG\u001b[30m\u001b[49m\u001b[33mG\u001b[30m\u001b[49m\u001b[34mC\u001b[30m\u001b[49m\u001b[34mC\u001b[30m\u001b[49m\u001b[32mA\u001b[30m\u001b[49m\u001b[33mG\u001b[30m\u001b[49m\u001b[47m \u001b[30m\u001b[49m\u001b[47m \u001b[30m\u001b[49m\u001b[47m \u001b[30m\u001b[49m\u001b[33mG\u001b[30m\u001b[49m\u001b[32mA\u001b[30m\u001b[49m\u001b[33mG\u001b[30m\u001b[49m\u001b[32mA\u001b[30m\u001b[49m\u001b[31mT\u001b[30m\u001b[49m\u001b[32mA\u001b[30m\u001b[49m\u001b[33mG\u001b[30m\u001b[49m\u001b[34mC\u001b[30m\u001b[49m\u001b[32mA\u001b[30m\u001b[49m\u001b[33mG\u001b[30m\u001b[49m\u001b[32mA\u001b[30m\u001b[49m\u001b[33mG\u001b[30m\u001b[49m\u001b[33mG\u001b[30m\u001b[49m\u001b[31mT\u001b[30m\u001b[49m\u001b[34mC\u001b[30m\u001b[49m\u001b[32mA\u001b[30m\u001b[49m\u001b[47m \u001b[30m\u001b[49m\u001b[33mG\u001b[30m\u001b[49m\u001b[34mC\u001b[30m\u001b[49m\u001b[34mC\u001b[30m\u001b[49m\u001b[34mC\u001b[30m\u001b[49m\u001b[31mT\u001b[30m\u001b[49m\u001b[33mG\u001b[30m\u001b[49m\u001b[33mG\u001b[30m\u001b[49m\u001b[33mG\u001b[30m\u001b[49m\u001b[33mG\u001b[30m\u001b[49m\u001b[32mA\u001b[30m\u001b[49m\u001b[33mG\u001b[30m\u001b[49m\u001b[33mG\u001b[30m\u001b[49m\u001b[33mG\u001b[30m\u001b[49m\u001b[34mC\u001b[30m\u001b[49m\u001b[33mG\u001b[30m\u001b[49m\u001b[33mG\u001b[30m\u001b[49m\u001b[33mG\u001b[30m\u001b[49m\u001b[31mT\u001b[30m\u001b[49m\u001b[34mC\u001b[30m\u001b[49m\u001b[32mA\u001b[30m\u001b[49m\u001b[31mT\u001b[30m\u001b[49m\u001b[34mC\u001b[30m\u001b[49m\u001b[34mC\u001b[30m\u001b[49m\u001b[31mT\u001b[30m\u001b[49m\u001b[34mC\u001b[30m\u001b[49m\u001b[34mC\u001b[30m\u001b[49m\u001b[34mC\u001b[30m\u001b[49m\u001b[32mA\u001b[30m\u001b[49m\u001b[33mG\u001b[30m\u001b[49m\u001b[33mG\u001b[30m\u001b[49m\u001b[33mG\u001b[30m\u001b[49m\u001b[33mG\u001b[30m\u001b[49m\u001b[32mA\u001b[30m\u001b[49m\u001b[34mC\u001b[30m\u001b[49m\u001b[32mA\u001b[30m\u001b[49m\u001b[33mG\u001b[30m\u001b[49m\u001b[33mG\u001b[30m\u001b[49m\u001b[33mG\u001b[30m\u001b[49m\u001b[47m \u001b[30m\u001b[49m\u001b[47m \u001b[30m\u001b[49m\u001b[47m \u001b[30m\u001b[49m\u001b[31mT\u001b[30m\u001b[49m\u001b[31mT\u001b[30m\u001b[49m\u001b[33mG\u001b[30m\u001b[49m\u001b[34mC\u001b[30m\u001b[49m\u001b[32mA\u001b[30m\u001b[49m\u001b[34mC\u001b[30m\u001b[49m\u001b[47m \u001b[30m\u001b[49m\u001b[34mC\u001b[30m\u001b[49m\u001b[32mA\u001b[30m\u001b[49m\u001b[33mG\u001b[30m\u001b[49m\u001b[34mC\u001b[30m\u001b[49m\u001b[34mC\u001b[30m\u001b[49m\u001b[31mT\u001b[30m\u001b[49m\u001b[31mT\u001b[30m\u001b[49m\u001b[33mG\u001b[30m\u001b[49m\u001b[34mC\u001b[30m\u001b[49m\u001b[47m \u001b[30m\u001b[49m\u001b[31mT\u001b[30m\u001b[49m\u001b[32mA\u001b[30m\u001b[49m\n",
            "prediction:\t \u001b[47m \u001b[30m\u001b[49m\u001b[31mT\u001b[30m\u001b[49m\u001b[33mG\u001b[30m\u001b[49m\u001b[32mA\u001b[30m\u001b[49m\u001b[34mC\u001b[30m\u001b[49m\u001b[32mA\u001b[30m\u001b[49m\u001b[33mG\u001b[30m\u001b[49m\u001b[32mA\u001b[30m\u001b[49m\u001b[34mC\u001b[30m\u001b[49m\u001b[34mC\u001b[30m\u001b[49m\u001b[31mT\u001b[30m\u001b[49m\u001b[33mG\u001b[30m\u001b[49m\u001b[32mA\u001b[30m\u001b[49m\u001b[47m \u001b[30m\u001b[49m\u001b[33mG\u001b[30m\u001b[49m\u001b[33mG\u001b[30m\u001b[49m\u001b[47m \u001b[30m\u001b[49m\u001b[34mC\u001b[30m\u001b[49m\u001b[32mA\u001b[30m\u001b[49m\u001b[33mG\u001b[30m\u001b[49m\u001b[47m \u001b[30m\u001b[49m\u001b[47m \u001b[30m\u001b[49m\u001b[47m \u001b[30m\u001b[49m\u001b[33mG\u001b[30m\u001b[49m\u001b[32mA\u001b[30m\u001b[49m\u001b[33mG\u001b[30m\u001b[49m\u001b[32mA\u001b[30m\u001b[49m\u001b[31mT\u001b[30m\u001b[49m\u001b[32mA\u001b[30m\u001b[49m\u001b[33mG\u001b[30m\u001b[49m\u001b[34mC\u001b[30m\u001b[49m\u001b[32mA\u001b[30m\u001b[49m\u001b[33mG\u001b[30m\u001b[49m\u001b[32mA\u001b[30m\u001b[49m\u001b[33mG\u001b[30m\u001b[49m\u001b[33mG\u001b[30m\u001b[49m\u001b[31mT\u001b[30m\u001b[49m\u001b[34mC\u001b[30m\u001b[49m\u001b[32mA\u001b[30m\u001b[49m\u001b[47m \u001b[30m\u001b[49m\u001b[33mG\u001b[30m\u001b[49m\u001b[34mC\u001b[30m\u001b[49m\u001b[34mC\u001b[30m\u001b[49m\u001b[34mC\u001b[30m\u001b[49m\u001b[31mT\u001b[30m\u001b[49m\u001b[33mG\u001b[30m\u001b[49m\u001b[33mG\u001b[30m\u001b[49m\u001b[33mG\u001b[30m\u001b[49m\u001b[33mG\u001b[30m\u001b[49m\u001b[32mA\u001b[30m\u001b[49m\u001b[33mG\u001b[30m\u001b[49m\u001b[33mG\u001b[30m\u001b[49m\u001b[33mG\u001b[30m\u001b[49m\u001b[34mC\u001b[30m\u001b[49m\u001b[33mG\u001b[30m\u001b[49m\u001b[33mG\u001b[30m\u001b[49m\u001b[33mG\u001b[30m\u001b[49m\u001b[31mT\u001b[30m\u001b[49m\u001b[34mC\u001b[30m\u001b[49m\u001b[32mA\u001b[30m\u001b[49m\u001b[31mT\u001b[30m\u001b[49m\u001b[34mC\u001b[30m\u001b[49m\u001b[34mC\u001b[30m\u001b[49m\u001b[31mT\u001b[30m\u001b[49m\u001b[34mC\u001b[30m\u001b[49m\u001b[34mC\u001b[30m\u001b[49m\u001b[34mC\u001b[30m\u001b[49m\u001b[32mA\u001b[30m\u001b[49m\u001b[33mG\u001b[30m\u001b[49m\u001b[33mG\u001b[30m\u001b[49m\u001b[33mG\u001b[30m\u001b[49m\u001b[33mG\u001b[30m\u001b[49m\u001b[32mA\u001b[30m\u001b[49m\u001b[34mC\u001b[30m\u001b[49m\u001b[32mA\u001b[30m\u001b[49m\u001b[33mG\u001b[30m\u001b[49m\u001b[33mG\u001b[30m\u001b[49m\u001b[33mG\u001b[30m\u001b[49m\u001b[47m \u001b[30m\u001b[49m\u001b[47m \u001b[30m\u001b[49m\u001b[47m \u001b[30m\u001b[49m\u001b[31mT\u001b[30m\u001b[49m\u001b[31mT\u001b[30m\u001b[49m\u001b[33mG\u001b[30m\u001b[49m\u001b[34mC\u001b[30m\u001b[49m\u001b[32mA\u001b[30m\u001b[49m\u001b[34mC\u001b[30m\u001b[49m\u001b[47m \u001b[30m\u001b[49m\u001b[34mC\u001b[30m\u001b[49m\u001b[32mA\u001b[30m\u001b[49m\u001b[33mG\u001b[30m\u001b[49m\u001b[34mC\u001b[30m\u001b[49m\u001b[34mC\u001b[30m\u001b[49m\u001b[31mT\u001b[30m\u001b[49m\u001b[31mT\u001b[30m\u001b[49m\u001b[33mG\u001b[30m\u001b[49m\u001b[34mC\u001b[30m\u001b[49m\u001b[47m \u001b[30m\u001b[49m\u001b[31mT\u001b[30m\u001b[49m\u001b[32mA\u001b[30m\u001b[49m\n",
            "label:\t\t \u001b[31mT\u001b[30m\u001b[49m\u001b[33mG\u001b[30m\u001b[49m\u001b[32mA\u001b[30m\u001b[49m\u001b[34mC\u001b[30m\u001b[49m\u001b[32mA\u001b[30m\u001b[49m\u001b[33mG\u001b[30m\u001b[49m\u001b[32mA\u001b[30m\u001b[49m\u001b[34mC\u001b[30m\u001b[49m\u001b[34mC\u001b[30m\u001b[49m\u001b[31mT\u001b[30m\u001b[49m\u001b[33mG\u001b[30m\u001b[49m\u001b[32mA\u001b[30m\u001b[49m\u001b[47m \u001b[30m\u001b[49m\u001b[33mG\u001b[30m\u001b[49m\u001b[33mG\u001b[30m\u001b[49m\u001b[34mC\u001b[30m\u001b[49m\u001b[34mC\u001b[30m\u001b[49m\u001b[32mA\u001b[30m\u001b[49m\u001b[33mG\u001b[30m\u001b[49m\u001b[47m \u001b[30m\u001b[49m\u001b[47m \u001b[30m\u001b[49m\u001b[47m \u001b[30m\u001b[49m\u001b[33mG\u001b[30m\u001b[49m\u001b[32mA\u001b[30m\u001b[49m\u001b[33mG\u001b[30m\u001b[49m\u001b[32mA\u001b[30m\u001b[49m\u001b[31mT\u001b[30m\u001b[49m\u001b[32mA\u001b[30m\u001b[49m\u001b[33mG\u001b[30m\u001b[49m\u001b[34mC\u001b[30m\u001b[49m\u001b[32mA\u001b[30m\u001b[49m\u001b[33mG\u001b[30m\u001b[49m\u001b[32mA\u001b[30m\u001b[49m\u001b[33mG\u001b[30m\u001b[49m\u001b[33mG\u001b[30m\u001b[49m\u001b[31mT\u001b[30m\u001b[49m\u001b[34mC\u001b[30m\u001b[49m\u001b[32mA\u001b[30m\u001b[49m\u001b[47m \u001b[30m\u001b[49m\u001b[33mG\u001b[30m\u001b[49m\u001b[34mC\u001b[30m\u001b[49m\u001b[34mC\u001b[30m\u001b[49m\u001b[34mC\u001b[30m\u001b[49m\u001b[31mT\u001b[30m\u001b[49m\u001b[33mG\u001b[30m\u001b[49m\u001b[33mG\u001b[30m\u001b[49m\u001b[33mG\u001b[30m\u001b[49m\u001b[33mG\u001b[30m\u001b[49m\u001b[32mA\u001b[30m\u001b[49m\u001b[33mG\u001b[30m\u001b[49m\u001b[33mG\u001b[30m\u001b[49m\u001b[33mG\u001b[30m\u001b[49m\u001b[34mC\u001b[30m\u001b[49m\u001b[33mG\u001b[30m\u001b[49m\u001b[33mG\u001b[30m\u001b[49m\u001b[33mG\u001b[30m\u001b[49m\u001b[31mT\u001b[30m\u001b[49m\u001b[34mC\u001b[30m\u001b[49m\u001b[32mA\u001b[30m\u001b[49m\u001b[31mT\u001b[30m\u001b[49m\u001b[34mC\u001b[30m\u001b[49m\u001b[34mC\u001b[30m\u001b[49m\u001b[31mT\u001b[30m\u001b[49m\u001b[34mC\u001b[30m\u001b[49m\u001b[34mC\u001b[30m\u001b[49m\u001b[34mC\u001b[30m\u001b[49m\u001b[32mA\u001b[30m\u001b[49m\u001b[33mG\u001b[30m\u001b[49m\u001b[33mG\u001b[30m\u001b[49m\u001b[33mG\u001b[30m\u001b[49m\u001b[33mG\u001b[30m\u001b[49m\u001b[32mA\u001b[30m\u001b[49m\u001b[34mC\u001b[30m\u001b[49m\u001b[32mA\u001b[30m\u001b[49m\u001b[33mG\u001b[30m\u001b[49m\u001b[33mG\u001b[30m\u001b[49m\u001b[33mG\u001b[30m\u001b[49m\u001b[47m \u001b[30m\u001b[49m\u001b[47m \u001b[30m\u001b[49m\u001b[47m \u001b[30m\u001b[49m\u001b[31mT\u001b[30m\u001b[49m\u001b[31mT\u001b[30m\u001b[49m\u001b[33mG\u001b[30m\u001b[49m\u001b[34mC\u001b[30m\u001b[49m\u001b[32mA\u001b[30m\u001b[49m\u001b[34mC\u001b[30m\u001b[49m\u001b[47m \u001b[30m\u001b[49m\u001b[34mC\u001b[30m\u001b[49m\u001b[32mA\u001b[30m\u001b[49m\u001b[33mG\u001b[30m\u001b[49m\u001b[34mC\u001b[30m\u001b[49m\u001b[34mC\u001b[30m\u001b[49m\u001b[31mT\u001b[30m\u001b[49m\u001b[31mT\u001b[30m\u001b[49m\u001b[33mG\u001b[30m\u001b[49m\u001b[34mC\u001b[30m\u001b[49m\u001b[47m \u001b[30m\u001b[49m\u001b[31mT\u001b[30m\u001b[49m\u001b[32mA\u001b[30m\u001b[49m\u001b[47m \u001b[30m\u001b[49m\n",
            "\n",
            "\n"
          ]
        }
      ],
      "source": [
        "show_example(batch, example_i, ypreds=y_preds)"
      ]
    }
  ],
  "metadata": {
    "colab": {
      "provenance": [
        {
          "file_id": "/piper/depot/google3/learning/genomics/deepconsensus/opensource_only/g3doc/notebooks/Copy_of_Inspecting_DeepConsensus_examples_and_running_model.ipynb?workspaceId=belyaeva:dc_colab::citc",
          "timestamp": 1671003632159
        },
        {
          "file_id": "1z0cxbjLv72YX9RoofOMnqSHUJQJEC3tR",
          "timestamp": 1671003603352
        },
        {
          "file_id": "/piper/depot/google3/learning/genomics/deepconsensus/opensource_only/g3doc/notebooks/Inspecting_DeepConsensus_examples_and_running_model.ipynb",
          "timestamp": 1671002535041
        }
      ],
      "toc_visible": true
    },
    "kernelspec": {
      "display_name": "Python 3",
      "name": "python3"
    },
    "language_info": {
      "name": "python"
    }
  },
  "nbformat": 4,
  "nbformat_minor": 0
}
